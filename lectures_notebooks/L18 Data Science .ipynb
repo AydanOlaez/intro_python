{
 "cells": [
  {
   "cell_type": "markdown",
   "metadata": {
    "id": "5UyFJYXOx-WH",
    "slideshow": {
     "slide_type": "slide"
    }
   },
   "source": [
    "# Lecture 18 - Intro to data science (http://bit.ly/2YMjFL6)\n",
    "\n",
    "Today we're going to look at doing simple machine learning with Python, as an intro to very basic data science.\n",
    "\n",
    "The idea is not to give you a full knowledge of any single package or technique, rather to give you a sense for what is possible.\n",
    "\n",
    "To keep things simple, we're going to start by looking at **one variable linear regression**. This is the simplest form of machine learning we can think of. \n",
    "\n",
    "For data, we're going to look at an archival database of breast tumor data to try to find variables that predict malignancy. \n",
    "\n",
    "#### DATASET http://archive.ics.uci.edu/ml/machine-learning-databases/breast-cancer-wisconsin/\n",
    "\n",
    "#### Link to processed datafile from Google Drive if you want to download:\n",
    "\n",
    "https://drive.google.com/file/d/1FZbQCEHr2Rie4cXSM6Udg0SaWTtPnEHO/view?usp=sharing\n",
    "\n",
    "**As a bonus: At the end of this lecture are some notes on three core Python data science libraries that are widely used:  Numpy, Matplotlib and Pandas. These will not be covered in class due to time, but please play with them!**"
   ]
  },
  {
   "cell_type": "markdown",
   "metadata": {
    "id": "oV_d27jBoYiw",
    "slideshow": {
     "slide_type": "slide"
    }
   },
   "source": [
    "# Wisconsin Breast Cancer Database\n",
    "\n",
    "1. Number of Instances: 699 (as of 15 July 1992 (yeah, it's old))\n",
    "\n",
    "2. Number of Attributes: 10 plus the class attribute\n",
    "\n",
    "3. Attribute Information: (class attribute has been moved to last column)\n",
    "   Attribute                     Domain\n",
    "   1. Sample code number            id number\n",
    "   2. Clump Thickness               1 - 10\n",
    "   3. Uniformity of Cell Size       1 - 10\n",
    "   4. Uniformity of Cell Shape      1 - 10\n",
    "   5. Marginal Adhesion             1 - 10\n",
    "   6. Single Epithelial Cell Size   1 - 10\n",
    "   7. Bare Nuclei                   1 - 10\n",
    "   8. Bland Chromatin               1 - 10\n",
    "   9. Normal Nucleoli               1 - 10\n",
    "  10. Mitoses                       1 - 10\n",
    "  11. Class:                        (2 for benign, 4 for malignant)\n",
    "\n",
    "4. Missing attribute values: 16\n",
    "\n",
    "   There are 16 instances in Groups 1 to 6 that contain a single missing \n",
    "   (i.e., unavailable) attribute value, now denoted by \"?\".  \n",
    "\n",
    "5. Class distribution:\n",
    " \n",
    "   Benign: 458 (65.5%)\n",
    "   Malignant: 241 (34.5%)"
   ]
  },
  {
   "cell_type": "markdown",
   "metadata": {
    "id": "-eLSs-5rxsvO",
    "slideshow": {
     "slide_type": "slide"
    }
   },
   "source": [
    "# Load the data"
   ]
  },
  {
   "cell_type": "markdown",
   "metadata": {
    "id": "h1wqZ2hHyTqZ",
    "slideshow": {
     "slide_type": "subslide"
    }
   },
   "source": [
    "First copy the data from Google Drive to a local file.\n",
    "\n",
    "The data is in a comma separated value (csv) file:\n",
    "\n",
    "![alt text](https://static.goanywhere.com/images/tutorials/csv-to-database/input-file.png)\n",
    "\n",
    "* Above is an illustration of CSV format. Each line gives a comma separated sequence of N text strings\n",
    "\n",
    "* CSV files are like simple tables.\n"
   ]
  },
  {
   "cell_type": "code",
   "execution_count": 7,
   "metadata": {
    "executionInfo": {
     "elapsed": 4076,
     "status": "ok",
     "timestamp": 1608232709034,
     "user": {
      "displayName": "Benedict Paten",
      "photoUrl": "https://lh3.googleusercontent.com/a-/AOh14Gh2rYrrH6yoNnUp0Oj4p4ouybc6ZcWGyPmKFtIY=s64",
      "userId": "06399644931392855882"
     },
     "user_tz": 480
    },
    "id": "0pJJt8Vwlq09",
    "slideshow": {
     "slide_type": "subslide"
    }
   },
   "outputs": [],
   "source": [
    "# If using Google drive link to access data the following with connect\n",
    "# to drive, authenticate using your Google account and load the data\n",
    "\n",
    "# Folks - you don't need to understand this, I'm just loading the data from \n",
    "# my google drive using Google's API.\n",
    "\n",
    "!pip install -U -q PyDrive ## you will have install for every colab session\n",
    "\n",
    "from pydrive.auth import GoogleAuth\n",
    "from pydrive.drive import GoogleDrive\n",
    "from google.colab import auth\n",
    "from oauth2client.client import GoogleCredentials\n",
    "\n",
    "# 1. Authenticate and create the PyDrive client.\n",
    "auth.authenticate_user()\n",
    "gauth = GoogleAuth()\n",
    "gauth.credentials = GoogleCredentials.get_application_default()\n",
    "drive = GoogleDrive(gauth)\n",
    "\n",
    "# 2. Now proxy the Google Drive file to a local file\n",
    "cancer_data_import = drive.CreateFile({'id':'1FZbQCEHr2Rie4cXSM6Udg0SaWTtPnEHO'})\n",
    "cancer_data_import.GetContentFile('cancer_data.csv') # 'cancer_data.csv' is the file name that will be accessible in the notebook."
   ]
  },
  {
   "cell_type": "markdown",
   "metadata": {
    "id": "gaAizMCiy1gW",
    "slideshow": {
     "slide_type": "subslide"
    }
   },
   "source": [
    "**Import the Pandas and Numpy modules**\n",
    "\n",
    "* Numpy is an \"array\" and \"matrix\" library, used to represent large collections of data efficiently in Python\n",
    "\n",
    "* Pandas builds on Numpy to provide a \"spreadsheet like\" package for manipulating tables of data and performing statistical analyses.\n",
    "\n",
    "* For more details see the appendices at the end of the notebook and the linked tutorials."
   ]
  },
  {
   "cell_type": "code",
   "execution_count": 8,
   "metadata": {
    "executionInfo": {
     "elapsed": 4074,
     "status": "ok",
     "timestamp": 1608232709035,
     "user": {
      "displayName": "Benedict Paten",
      "photoUrl": "https://lh3.googleusercontent.com/a-/AOh14Gh2rYrrH6yoNnUp0Oj4p4ouybc6ZcWGyPmKFtIY=s64",
      "userId": "06399644931392855882"
     },
     "user_tz": 480
    },
    "id": "sumdi2IPynvF",
    "slideshow": {
     "slide_type": "fragment"
    }
   },
   "outputs": [],
   "source": [
    "# These are two key libraries we need for representing the data in Python\n",
    "import numpy as np\n",
    "import pandas as pd"
   ]
  },
  {
   "cell_type": "markdown",
   "metadata": {
    "id": "JY6LKURSyZlu",
    "slideshow": {
     "slide_type": "fragment"
    }
   },
   "source": [
    "Next, load the data into Python using Pandas..\n",
    "\n"
   ]
  },
  {
   "cell_type": "code",
   "execution_count": 9,
   "metadata": {
    "colab": {
     "base_uri": "https://localhost:8080/",
     "height": 198
    },
    "executionInfo": {
     "elapsed": 4071,
     "status": "ok",
     "timestamp": 1608232709035,
     "user": {
      "displayName": "Benedict Paten",
      "photoUrl": "https://lh3.googleusercontent.com/a-/AOh14Gh2rYrrH6yoNnUp0Oj4p4ouybc6ZcWGyPmKFtIY=s64",
      "userId": "06399644931392855882"
     },
     "user_tz": 480
    },
    "id": "r6QGbwsdoYiy",
    "outputId": "90d48140-903e-49a3-f735-ec0b2bc99147",
    "slideshow": {
     "slide_type": "subslide"
    }
   },
   "outputs": [
    {
     "data": {
      "text/html": [
       "<div>\n",
       "<style scoped>\n",
       "    .dataframe tbody tr th:only-of-type {\n",
       "        vertical-align: middle;\n",
       "    }\n",
       "\n",
       "    .dataframe tbody tr th {\n",
       "        vertical-align: top;\n",
       "    }\n",
       "\n",
       "    .dataframe thead th {\n",
       "        text-align: right;\n",
       "    }\n",
       "</style>\n",
       "<table border=\"1\" class=\"dataframe\">\n",
       "  <thead>\n",
       "    <tr style=\"text-align: right;\">\n",
       "      <th></th>\n",
       "      <th>id</th>\n",
       "      <th>clump-thickness</th>\n",
       "      <th>uniformity-of-cell-size</th>\n",
       "      <th>uniformity-of-cell-shape</th>\n",
       "      <th>marginal-adhesion</th>\n",
       "      <th>single-epithelial-cell-size</th>\n",
       "      <th>bare-nuclei</th>\n",
       "      <th>bland-chromatin</th>\n",
       "      <th>normal-nucleoli</th>\n",
       "      <th>mitoses</th>\n",
       "      <th>class</th>\n",
       "    </tr>\n",
       "  </thead>\n",
       "  <tbody>\n",
       "    <tr>\n",
       "      <th>0</th>\n",
       "      <td>1000025</td>\n",
       "      <td>5</td>\n",
       "      <td>1</td>\n",
       "      <td>1</td>\n",
       "      <td>1</td>\n",
       "      <td>2</td>\n",
       "      <td>1</td>\n",
       "      <td>3</td>\n",
       "      <td>1</td>\n",
       "      <td>1</td>\n",
       "      <td>2</td>\n",
       "    </tr>\n",
       "    <tr>\n",
       "      <th>1</th>\n",
       "      <td>1002945</td>\n",
       "      <td>5</td>\n",
       "      <td>4</td>\n",
       "      <td>4</td>\n",
       "      <td>5</td>\n",
       "      <td>7</td>\n",
       "      <td>10</td>\n",
       "      <td>3</td>\n",
       "      <td>2</td>\n",
       "      <td>1</td>\n",
       "      <td>2</td>\n",
       "    </tr>\n",
       "    <tr>\n",
       "      <th>2</th>\n",
       "      <td>1015425</td>\n",
       "      <td>3</td>\n",
       "      <td>1</td>\n",
       "      <td>1</td>\n",
       "      <td>1</td>\n",
       "      <td>2</td>\n",
       "      <td>2</td>\n",
       "      <td>3</td>\n",
       "      <td>1</td>\n",
       "      <td>1</td>\n",
       "      <td>2</td>\n",
       "    </tr>\n",
       "    <tr>\n",
       "      <th>3</th>\n",
       "      <td>1016277</td>\n",
       "      <td>6</td>\n",
       "      <td>8</td>\n",
       "      <td>8</td>\n",
       "      <td>1</td>\n",
       "      <td>3</td>\n",
       "      <td>4</td>\n",
       "      <td>3</td>\n",
       "      <td>7</td>\n",
       "      <td>1</td>\n",
       "      <td>2</td>\n",
       "    </tr>\n",
       "    <tr>\n",
       "      <th>4</th>\n",
       "      <td>1017023</td>\n",
       "      <td>4</td>\n",
       "      <td>1</td>\n",
       "      <td>1</td>\n",
       "      <td>3</td>\n",
       "      <td>2</td>\n",
       "      <td>1</td>\n",
       "      <td>3</td>\n",
       "      <td>1</td>\n",
       "      <td>1</td>\n",
       "      <td>2</td>\n",
       "    </tr>\n",
       "  </tbody>\n",
       "</table>\n",
       "</div>"
      ],
      "text/plain": [
       "        id  clump-thickness  ...  mitoses  class\n",
       "0  1000025                5  ...        1      2\n",
       "1  1002945                5  ...        1      2\n",
       "2  1015425                3  ...        1      2\n",
       "3  1016277                6  ...        1      2\n",
       "4  1017023                4  ...        1      2\n",
       "\n",
       "[5 rows x 11 columns]"
      ]
     },
     "execution_count": 9,
     "metadata": {
      "tags": []
     },
     "output_type": "execute_result"
    }
   ],
   "source": [
    "# Load the data as a Pandas dataframe\n",
    "\n",
    "# Read input\n",
    "df = pd.read_csv(\"cancer_data.csv\") \n",
    "df.head(5) # Head just shows us the first 5 rows"
   ]
  },
  {
   "cell_type": "markdown",
   "metadata": {
    "id": "YuAmA3Dj0WS_",
    "slideshow": {
     "slide_type": "fragment"
    }
   },
   "source": [
    "This converts process reads the csv table data into a Pandas \"data frame\", abbreviated \"df\". \n",
    "\n",
    "With df.head(5) we print the first five rows to illustrate the nature of the data."
   ]
  },
  {
   "cell_type": "markdown",
   "metadata": {
    "id": "wpUt1Nj_9v4I",
    "slideshow": {
     "slide_type": "slide"
    }
   },
   "source": [
    "# Preprocess The Data\n",
    "\n",
    "In data science and machine learning frequently much of the challenge is in preprocessing the data into a format that is ameniable to the algorithms used.\n",
    "\n",
    "Here we don't need to do too much, we just normalize the data.\n",
    "\n",
    "We use scikit-learn, a popular Python machine learning package to do the preprocessing. See: https://scikit-learn.org/stable/modules/preprocessing.html"
   ]
  },
  {
   "cell_type": "code",
   "execution_count": 10,
   "metadata": {
    "colab": {
     "base_uri": "https://localhost:8080/",
     "height": 198
    },
    "executionInfo": {
     "elapsed": 4069,
     "status": "ok",
     "timestamp": 1608232709036,
     "user": {
      "displayName": "Benedict Paten",
      "photoUrl": "https://lh3.googleusercontent.com/a-/AOh14Gh2rYrrH6yoNnUp0Oj4p4ouybc6ZcWGyPmKFtIY=s64",
      "userId": "06399644931392855882"
     },
     "user_tz": 480
    },
    "id": "h1pWeA_GoYi4",
    "outputId": "afa91fb1-7d8e-4224-bcbf-e123399f4cb5",
    "slideshow": {
     "slide_type": "subslide"
    }
   },
   "outputs": [
    {
     "data": {
      "text/html": [
       "<div>\n",
       "<style scoped>\n",
       "    .dataframe tbody tr th:only-of-type {\n",
       "        vertical-align: middle;\n",
       "    }\n",
       "\n",
       "    .dataframe tbody tr th {\n",
       "        vertical-align: top;\n",
       "    }\n",
       "\n",
       "    .dataframe thead th {\n",
       "        text-align: right;\n",
       "    }\n",
       "</style>\n",
       "<table border=\"1\" class=\"dataframe\">\n",
       "  <thead>\n",
       "    <tr style=\"text-align: right;\">\n",
       "      <th></th>\n",
       "      <th>id</th>\n",
       "      <th>clump-thickness</th>\n",
       "      <th>uniformity-of-cell-size</th>\n",
       "      <th>uniformity-of-cell-shape</th>\n",
       "      <th>marginal-adhesion</th>\n",
       "      <th>single-epithelial-cell-size</th>\n",
       "      <th>bare-nuclei</th>\n",
       "      <th>bland-chromatin</th>\n",
       "      <th>normal-nucleoli</th>\n",
       "      <th>mitoses</th>\n",
       "      <th>class</th>\n",
       "    </tr>\n",
       "  </thead>\n",
       "  <tbody>\n",
       "    <tr>\n",
       "      <th>0</th>\n",
       "      <td>172</td>\n",
       "      <td>4</td>\n",
       "      <td>0</td>\n",
       "      <td>0</td>\n",
       "      <td>0</td>\n",
       "      <td>1</td>\n",
       "      <td>0</td>\n",
       "      <td>2</td>\n",
       "      <td>0</td>\n",
       "      <td>0</td>\n",
       "      <td>0</td>\n",
       "    </tr>\n",
       "    <tr>\n",
       "      <th>1</th>\n",
       "      <td>175</td>\n",
       "      <td>4</td>\n",
       "      <td>3</td>\n",
       "      <td>3</td>\n",
       "      <td>4</td>\n",
       "      <td>6</td>\n",
       "      <td>1</td>\n",
       "      <td>2</td>\n",
       "      <td>1</td>\n",
       "      <td>0</td>\n",
       "      <td>0</td>\n",
       "    </tr>\n",
       "    <tr>\n",
       "      <th>2</th>\n",
       "      <td>176</td>\n",
       "      <td>2</td>\n",
       "      <td>0</td>\n",
       "      <td>0</td>\n",
       "      <td>0</td>\n",
       "      <td>1</td>\n",
       "      <td>2</td>\n",
       "      <td>2</td>\n",
       "      <td>0</td>\n",
       "      <td>0</td>\n",
       "      <td>0</td>\n",
       "    </tr>\n",
       "    <tr>\n",
       "      <th>3</th>\n",
       "      <td>177</td>\n",
       "      <td>5</td>\n",
       "      <td>7</td>\n",
       "      <td>7</td>\n",
       "      <td>0</td>\n",
       "      <td>2</td>\n",
       "      <td>4</td>\n",
       "      <td>2</td>\n",
       "      <td>6</td>\n",
       "      <td>0</td>\n",
       "      <td>0</td>\n",
       "    </tr>\n",
       "    <tr>\n",
       "      <th>4</th>\n",
       "      <td>179</td>\n",
       "      <td>3</td>\n",
       "      <td>0</td>\n",
       "      <td>0</td>\n",
       "      <td>2</td>\n",
       "      <td>1</td>\n",
       "      <td>0</td>\n",
       "      <td>2</td>\n",
       "      <td>0</td>\n",
       "      <td>0</td>\n",
       "      <td>0</td>\n",
       "    </tr>\n",
       "  </tbody>\n",
       "</table>\n",
       "</div>"
      ],
      "text/plain": [
       "    id  clump-thickness  ...  mitoses  class\n",
       "0  172                4  ...        0      0\n",
       "1  175                4  ...        0      0\n",
       "2  176                2  ...        0      0\n",
       "3  177                5  ...        0      0\n",
       "4  179                3  ...        0      0\n",
       "\n",
       "[5 rows x 11 columns]"
      ]
     },
     "execution_count": 10,
     "metadata": {
      "tags": []
     },
     "output_type": "execute_result"
    }
   ],
   "source": [
    "# Preprocess the data so we can use it for regression. Especially the class values.\n",
    "# Access function/method docstrings in jupyter via '?'. Ex: preprocessing.LabelEncoder?\n",
    "from sklearn import preprocessing\n",
    "\n",
    "encoder = preprocessing.LabelEncoder()\n",
    "\n",
    "for col in df.columns: # For each column in the data frame\n",
    "    df[col] = encoder.fit_transform(df[col]) # Transform the series so is zero based\n",
    "    # and dense\n",
    "    \n",
    "df.head(5)"
   ]
  },
  {
   "cell_type": "markdown",
   "metadata": {
    "id": "fXfybKOv_dA9",
    "slideshow": {
     "slide_type": "slide"
    }
   },
   "source": [
    "# Linear Regression w/One Variable\n",
    "\n",
    "To start, we suppose we have a set of pairs:\n",
    "\n",
    "\\begin{equation}\n",
    "(x_1, y_1), (x_2, y_2), \\ldots, (x_n, y_n)\n",
    "\\end{equation}\n",
    "\n",
    "The task is to try to predict $y_i$ given $x_i$. Call our prediction $y'_i$,  in linear regression we use the following simple linear equation for our prediction:\n",
    "\n",
    "\\begin{equation}\n",
    "y'_i = w*x_i+b\n",
    "\\end{equation}"
   ]
  },
  {
   "cell_type": "markdown",
   "metadata": {
    "id": "KUKR8S262EGW",
    "slideshow": {
     "slide_type": "subslide"
    }
   },
   "source": [
    "In this picture the pairs:\n",
    "\n",
    "\\begin{equation}\n",
    "(x_1, y_1), (x_2, y_2), \\ldots, (x_n, y_n)\n",
    "\\end{equation}\n",
    "\n",
    "are the blue dots and our prediction:\n",
    "\n",
    "\\begin{equation}\n",
    "y'_i = w*x_i+b\n",
    "\\end{equation}\n",
    "\n",
    "is the red line\n",
    "\n",
    "![alt text](https://miro.medium.com/max/2584/1*Nf2tTTkALYq6RTMQmhjo1A.png)"
   ]
  },
  {
   "cell_type": "markdown",
   "metadata": {
    "slideshow": {
     "slide_type": "subslide"
    }
   },
   "source": [
    "In Python we encode the prediction as:"
   ]
  },
  {
   "cell_type": "code",
   "execution_count": 11,
   "metadata": {
    "executionInfo": {
     "elapsed": 4067,
     "status": "ok",
     "timestamp": 1608232709036,
     "user": {
      "displayName": "Benedict Paten",
      "photoUrl": "https://lh3.googleusercontent.com/a-/AOh14Gh2rYrrH6yoNnUp0Oj4p4ouybc6ZcWGyPmKFtIY=s64",
      "userId": "06399644931392855882"
     },
     "user_tz": 480
    },
    "id": "5VNKNxhcoYi-",
    "slideshow": {
     "slide_type": "fragment"
    }
   },
   "outputs": [],
   "source": [
    "def predict(x, w, b):\n",
    "    return x*w + b"
   ]
  },
  {
   "cell_type": "markdown",
   "metadata": {
    "id": "05KFY-ZZBqo9",
    "slideshow": {
     "slide_type": "fragment"
    }
   },
   "source": [
    "The task of machine learning here is to learn the parameters of the model, that is $w$ and $b$. To do this we need some way of deciding the value of our parameter choices - a \"cost function\""
   ]
  },
  {
   "cell_type": "markdown",
   "metadata": {
    "id": "ssouoj37oYjA",
    "slideshow": {
     "slide_type": "slide"
    }
   },
   "source": [
    "# Cost function / loss function / risk function\n",
    "\n",
    "The mean squared error (MSE) is a measure of the quality of an estimator—it is always non-negative, and values closer to zero are better.\n",
    "\n",
    "To judge our parameters we use MSE: \n",
    "\\begin{equation}\n",
    "MSE = \\frac{1}{n} \\sum_{i=1}^n (y_i - (wx_i+b))^2\n",
    "\\end{equation}\n",
    "\n",
    "We visualize this error calculation as shown. \n",
    "\n",
    "The error is proportional to the sum of the squared length of the red lines:\n",
    "\n",
    "![alt text](https://cdn.nextjournal.com/data/QmfPuPp4V74FyvTTojMj6ix9T8Skj1ji4GhX5Pr6zK8w4N?filename=linear-regression.png&content-type=image/png)\n"
   ]
  },
  {
   "cell_type": "markdown",
   "metadata": {
    "id": "gZzXsU4w5wOA",
    "slideshow": {
     "slide_type": "subslide"
    }
   },
   "source": [
    "In Python:"
   ]
  },
  {
   "cell_type": "code",
   "execution_count": 12,
   "metadata": {
    "executionInfo": {
     "elapsed": 4066,
     "status": "ok",
     "timestamp": 1608232709037,
     "user": {
      "displayName": "Benedict Paten",
      "photoUrl": "https://lh3.googleusercontent.com/a-/AOh14Gh2rYrrH6yoNnUp0Oj4p4ouybc6ZcWGyPmKFtIY=s64",
      "userId": "06399644931392855882"
     },
     "user_tz": 480
    },
    "id": "4MOpF4AWoYjB",
    "slideshow": {
     "slide_type": "fragment"
    }
   },
   "outputs": [],
   "source": [
    "def cost_function(x, y, w, b):\n",
    "    n = len(x)\n",
    "    total_error = 0.0\n",
    "    for i in range(n):\n",
    "        total_error += (y[i] - (w*x[i] + b))**2\n",
    "    return total_error / n"
   ]
  },
  {
   "cell_type": "markdown",
   "metadata": {
    "id": "dAiz6-q_oYjH",
    "slideshow": {
     "slide_type": "slide"
    }
   },
   "source": [
    "# Gradient descent\n",
    "Having defined a model and a cost function, the next thing to do is define a learning method which can find good parameters for the model.\n",
    "\n",
    "For the case of simple linear regression we could calculate the optimum parameters analytically, but here we choose to use gradient descent. An iterative method that can be used to optimize a large class of problems, many of which can not be solved exactly.\n",
    "\n",
    "In Gradient Descent the idea is to use the derivative (rate of change) of the cost function to iteratively search for the point where the parameters minimize the MSE: \n",
    "\n",
    "![alt text](https://miro.medium.com/max/1400/1*HrFZV7pKPcc5dzLaWvngtQ.png)\n",
    "\n",
    "(In the picture J(w) is the cost function and we traverse the cost function for the w parameter by iteratively moving toward the global minimum)\n",
    "\n",
    "\n",
    "\n"
   ]
  },
  {
   "cell_type": "markdown",
   "metadata": {
    "id": "xk2D-aL9AJhv",
    "slideshow": {
     "slide_type": "subslide"
    }
   },
   "source": [
    "There are two parameters (coefficients) in our cost function we can control: weight $w$ and bias $b$. Since we need to consider the impact each one has on the final prediction, we use partial derivatives.\n",
    "Recall the MSE cost function (here called $f$):\n",
    "\\begin{equation}\n",
    "f(w,b)= \\frac{1}{n} \\sum_{i=1}^{n} (y_i - (wx_i+b))^2\n",
    "\\end{equation}\n",
    "First lets find the partial derivative for $w$:\n",
    "\\begin{equation}\n",
    "\\frac{\\partial f}{\\partial w} = \\frac{1}{n} \\sum_{i=1}^n -2x_i(y_i - (wx_i+b))\n",
    "\\end{equation}\n",
    "And the partial derivative for $b$:\n",
    "\\begin{equation}\n",
    "\\frac{\\partial f}{\\partial b} = \\frac{1}{n} \\sum_{i=1}^n -2(y_i - (wx_i+b))\n",
    "\\end{equation}\n",
    "\n",
    "\n",
    "Suppose we have estimates of $w$ and $b$, the gradient descent method estimates  new estimates, $w'$ and $b'$, as follows:\n",
    "\n",
    "\\begin{equation}\n",
    "w' = w - l * \\frac{\\partial f}{\\partial w}\n",
    "\\end{equation}\n",
    "And the partial derivative for $b$:\n",
    "\\begin{equation}\n",
    "b' = b - l * \\frac{\\partial f}{\\partial b}\n",
    "\\end{equation}\n",
    "\n",
    "Where $l$ is the \"learning rate\" hyperparameter (a parameter of the learning algorithm) that dictates the speed at which the model learns - moves along the slope."
   ]
  },
  {
   "cell_type": "markdown",
   "metadata": {
    "id": "-XHjexG3Acws",
    "slideshow": {
     "slide_type": "subslide"
    }
   },
   "source": [
    "Given these update equations, we can express them in Python:"
   ]
  },
  {
   "cell_type": "code",
   "execution_count": 13,
   "metadata": {
    "executionInfo": {
     "elapsed": 4064,
     "status": "ok",
     "timestamp": 1608232709037,
     "user": {
      "displayName": "Benedict Paten",
      "photoUrl": "https://lh3.googleusercontent.com/a-/AOh14Gh2rYrrH6yoNnUp0Oj4p4ouybc6ZcWGyPmKFtIY=s64",
      "userId": "06399644931392855882"
     },
     "user_tz": 480
    },
    "id": "3_2k86CNoYjJ",
    "slideshow": {
     "slide_type": "fragment"
    }
   },
   "outputs": [],
   "source": [
    "def update_weights(x, y, w, b, learning_rate):\n",
    "    weight_deriv = 0\n",
    "    bias_deriv = 0\n",
    "    n = len(x)\n",
    "\n",
    "    for i in range(n):\n",
    "        # Calculate partial derivatives\n",
    "        # -2x(y - (mx + b))\n",
    "        weight_deriv += -2*x[i] * (y[i] - (w*x[i] + b))\n",
    "\n",
    "        # -2(y - (mx + b))\n",
    "        bias_deriv += -2*(y[i] - (w*x[i] + b))\n",
    "\n",
    "    # We subtract because the derivatives point in direction of steepest ascent\n",
    "    w -= (weight_deriv / n) * learning_rate\n",
    "    b -= (bias_deriv / n) * learning_rate\n",
    "\n",
    "    return w, b"
   ]
  },
  {
   "cell_type": "markdown",
   "metadata": {
    "id": "AiIAiZfk_F1q",
    "slideshow": {
     "slide_type": "fragment"
    }
   },
   "source": [
    "Note: making the learning rate too large will stop the model converging, because the size of the jumps between parameter estimates will hop around the optimal values."
   ]
  },
  {
   "cell_type": "markdown",
   "metadata": {
    "id": "RwzhMxwBoYjM",
    "slideshow": {
     "slide_type": "slide"
    }
   },
   "source": [
    "# Train loop\n",
    "\n",
    "We now have a simple model, cost function and associated learning algorithm. We can put these together to train the model iteratively:\n",
    "\n"
   ]
  },
  {
   "cell_type": "code",
   "execution_count": 14,
   "metadata": {
    "executionInfo": {
     "elapsed": 4062,
     "status": "ok",
     "timestamp": 1608232709038,
     "user": {
      "displayName": "Benedict Paten",
      "photoUrl": "https://lh3.googleusercontent.com/a-/AOh14Gh2rYrrH6yoNnUp0Oj4p4ouybc6ZcWGyPmKFtIY=s64",
      "userId": "06399644931392855882"
     },
     "user_tz": 480
    },
    "id": "alByI-sroYjN",
    "slideshow": {
     "slide_type": "subslide"
    }
   },
   "outputs": [],
   "source": [
    "def train_model(x, y, w, b, learning_rate, epochs):\n",
    "    cost_history = []\n",
    "\n",
    "    for i in range(epochs):\n",
    "        w,b = update_weights(x, y, w, b, learning_rate)\n",
    "\n",
    "        #Calculate cost for auditing purposes\n",
    "        cost = cost_function(x, y, w, b)\n",
    "        cost_history.append(cost)\n",
    "\n",
    "        # Log Progress\n",
    "        if (i+1) % 20 == 0:\n",
    "            print(\"Epochs: \", str(i+1), \" cost: \",  str(cost))\n",
    "\n",
    "    return w, b, cost_history"
   ]
  },
  {
   "cell_type": "markdown",
   "metadata": {
    "id": "Z_0lZ3BbdV2l",
    "slideshow": {
     "slide_type": "fragment"
    }
   },
   "source": [
    "An epoch is a cycle of learning from the data, the learning rate and number of epochs are the hyperparameters of this algorithm."
   ]
  },
  {
   "cell_type": "markdown",
   "metadata": {
    "id": "xVgISHsjoYjQ",
    "slideshow": {
     "slide_type": "slide"
    }
   },
   "source": [
    "# Run the training\n",
    "\n",
    "Let's test this all out:\n"
   ]
  },
  {
   "cell_type": "code",
   "execution_count": 15,
   "metadata": {
    "colab": {
     "base_uri": "https://localhost:8080/"
    },
    "executionInfo": {
     "elapsed": 17057,
     "status": "ok",
     "timestamp": 1608232722035,
     "user": {
      "displayName": "Benedict Paten",
      "photoUrl": "https://lh3.googleusercontent.com/a-/AOh14Gh2rYrrH6yoNnUp0Oj4p4ouybc6ZcWGyPmKFtIY=s64",
      "userId": "06399644931392855882"
     },
     "user_tz": 480
    },
    "id": "qZQG4McRoYjR",
    "outputId": "df182c15-f942-472a-a4ef-6155cb0ad928",
    "slideshow": {
     "slide_type": "subslide"
    }
   },
   "outputs": [
    {
     "name": "stdout",
     "output_type": "stream",
     "text": [
      "Epochs:  20  cost:  0.07538027961136255\n",
      "Epochs:  40  cost:  0.07498926619585158\n",
      "Epochs:  60  cost:  0.07485402644136209\n",
      "Epochs:  80  cost:  0.07480725108668539\n",
      "Epochs:  100  cost:  0.07479107290140467\n",
      "Epochs:  120  cost:  0.07478547735475996\n",
      "Epochs:  140  cost:  0.07478354202383664\n",
      "Epochs:  160  cost:  0.0747828726512064\n",
      "Epochs:  180  cost:  0.07478264113538957\n",
      "Epochs:  200  cost:  0.07478256106104562\n",
      "Epochs:  220  cost:  0.07478253336574431\n",
      "Epochs:  240  cost:  0.07478252378677425\n",
      "Epochs:  260  cost:  0.07478252047369835\n",
      "Epochs:  280  cost:  0.07478251932780343\n",
      "Epochs:  300  cost:  0.07478251893147433\n",
      "Epochs:  320  cost:  0.07478251879439674\n",
      "Epochs:  340  cost:  0.0747825187469841\n",
      "Epochs:  360  cost:  0.07478251873058646\n",
      "Epochs:  380  cost:  0.07478251872491373\n",
      "Epochs:  400  cost:  0.07478251872295176\n",
      "Epochs:  420  cost:  0.0747825187222749\n",
      "Epochs:  440  cost:  0.07478251872203892\n",
      "Epochs:  460  cost:  0.07478251872195751\n",
      "Epochs:  480  cost:  0.07478251872193077\n",
      "Epochs:  500  cost:  0.07478251872191918\n",
      "0.12748809923704618 0.07265767658062813\n"
     ]
    }
   ],
   "source": [
    "x = df['uniformity-of-cell-size']\n",
    "y = df['class'] # Benign / malignant \n",
    "w, b, cost_history = train_model(x, y, 0, 0, 0.02, 500) # Start with w and b as 0, 0\n",
    "print(w, b)"
   ]
  },
  {
   "cell_type": "markdown",
   "metadata": {
    "id": "82JtAoNYdqbg",
    "slideshow": {
     "slide_type": "subslide"
    }
   },
   "source": [
    "We can see that the model converges towards better parameters! \n",
    "\n",
    "How do we judge how useful the model is in practice? "
   ]
  },
  {
   "cell_type": "markdown",
   "metadata": {
    "id": "vk2_ci2-oYjW",
    "slideshow": {
     "slide_type": "slide"
    }
   },
   "source": [
    "# Predictive separation index (PSI) as score\n",
    "We can use Predictive Separation Index (PSI), to use as the strength of a predictor. The equation is:\n",
    "\n",
    "\\begin{equation}\n",
    "PSI ( x ) = [ \\textrm{mean }  y'_i  \\textrm{ when } y_i = 1 ] - [ \\textrm{mean }  y'_i  \\textrm{ when } y_i = 0 ] \\, .\n",
    "\\end{equation}\n",
    "\n",
    "\n",
    "We want PSI(x) very close to 1 as the first term should be close to 1 and the second term should be close to 0.\n",
    "\n",
    "In Python:"
   ]
  },
  {
   "cell_type": "code",
   "execution_count": 16,
   "metadata": {
    "executionInfo": {
     "elapsed": 17057,
     "status": "ok",
     "timestamp": 1608232722036,
     "user": {
      "displayName": "Benedict Paten",
      "photoUrl": "https://lh3.googleusercontent.com/a-/AOh14Gh2rYrrH6yoNnUp0Oj4p4ouybc6ZcWGyPmKFtIY=s64",
      "userId": "06399644931392855882"
     },
     "user_tz": 480
    },
    "id": "9IjvSGBFoYjX",
    "slideshow": {
     "slide_type": "subslide"
    }
   },
   "outputs": [],
   "source": [
    "def get_score(x, y, w, b):\n",
    "    preds_0 = []\n",
    "    preds_1 = []\n",
    "    for i in range(len(x)):\n",
    "        p = predict(x[i], w, b)\n",
    "        if y[i] == 0:\n",
    "            preds_0.append(p)\n",
    "        else:\n",
    "            preds_1.append(p)\n",
    "    if len(preds_0) != 0:\n",
    "        score = (sum(preds_1) / len(preds_1) - sum(preds_0) / len(preds_0))\n",
    "    else:\n",
    "        score = (sum(preds_1) /  len(preds_1) - 0)\n",
    "    return preds_0, preds_1, score"
   ]
  },
  {
   "cell_type": "code",
   "execution_count": 17,
   "metadata": {
    "colab": {
     "base_uri": "https://localhost:8080/"
    },
    "executionInfo": {
     "elapsed": 17054,
     "status": "ok",
     "timestamp": 1608232722036,
     "user": {
      "displayName": "Benedict Paten",
      "photoUrl": "https://lh3.googleusercontent.com/a-/AOh14Gh2rYrrH6yoNnUp0Oj4p4ouybc6ZcWGyPmKFtIY=s64",
      "userId": "06399644931392855882"
     },
     "user_tz": 480
    },
    "id": "ab34suKCoYja",
    "outputId": "ac2f282d-3584-4efb-b637-83fc97e4633c",
    "slideshow": {
     "slide_type": "subslide"
    }
   },
   "outputs": [
    {
     "name": "stdout",
     "output_type": "stream",
     "text": [
      "PSI:  0.6689665943993244\n"
     ]
    }
   ],
   "source": [
    "preds_0, preds_1, score = get_score(x, y, w, b)\n",
    "print(\"PSI: \", score)"
   ]
  },
  {
   "cell_type": "markdown",
   "metadata": {
    "id": "1gmAU5KNoYjd",
    "slideshow": {
     "slide_type": "slide"
    }
   },
   "source": [
    "# The prediction distribution plot\n",
    "\n",
    "A better way to look at our prediction is to look at the distribution of $y'_i$ we get for each of the classes. For $y_i = 0$ the $y'_i$ should be 0. Conversely,  $y'_i$ should be close to 1 when $y_i = 1$. This is a visual way of seeing the strength of a predictor."
   ]
  },
  {
   "cell_type": "code",
   "execution_count": 64,
   "metadata": {
    "colab": {
     "base_uri": "https://localhost:8080/",
     "height": 281
    },
    "executionInfo": {
     "elapsed": 748,
     "status": "ok",
     "timestamp": 1608232783365,
     "user": {
      "displayName": "Benedict Paten",
      "photoUrl": "https://lh3.googleusercontent.com/a-/AOh14Gh2rYrrH6yoNnUp0Oj4p4ouybc6ZcWGyPmKFtIY=s64",
      "userId": "06399644931392855882"
     },
     "user_tz": 480
    },
    "id": "fD9BbhyYoYje",
    "outputId": "011dcf54-ac4f-4db1-c428-d3f12d80893e",
    "slideshow": {
     "slide_type": "subslide"
    }
   },
   "outputs": [
    {
     "data": {
      "image/png": "[encoded data removed]",
      "text/plain": [
       "<Figure size 432x288 with 1 Axes>"
      ]
     },
     "metadata": {
      "needs_background": "light",
      "tags": []
     },
     "output_type": "display_data"
    }
   ],
   "source": [
    "%matplotlib inline  \n",
    "# The above is required to display matplotlib in jupyter\n",
    "import matplotlib.pyplot as plt\n",
    "\n",
    "# The y=0 class\n",
    "n, bins, patches = plt.hist(preds_0, bins=100, density=1, cumulative=0)\n",
    "plt.title('Predictive distribution for class y=0')\n",
    "plt.show()"
   ]
  },
  {
   "cell_type": "code",
   "execution_count": 63,
   "metadata": {
    "colab": {
     "base_uri": "https://localhost:8080/",
     "height": 281
    },
    "executionInfo": {
     "elapsed": 604,
     "status": "ok",
     "timestamp": 1608232780857,
     "user": {
      "displayName": "Benedict Paten",
      "photoUrl": "https://lh3.googleusercontent.com/a-/AOh14Gh2rYrrH6yoNnUp0Oj4p4ouybc6ZcWGyPmKFtIY=s64",
      "userId": "06399644931392855882"
     },
     "user_tz": 480
    },
    "id": "0R3B80pYJFTh",
    "outputId": "a76e5e67-846a-4bef-ee94-20720975c812",
    "slideshow": {
     "slide_type": "subslide"
    }
   },
   "outputs": [
    {
     "data": {
      "image/png": "[encoded data removed]",
      "text/plain": [
       "<Figure size 432x288 with 1 Axes>"
      ]
     },
     "metadata": {
      "needs_background": "light",
      "tags": []
     },
     "output_type": "display_data"
    }
   ],
   "source": [
    "# The y=1 class\n",
    "n, bins, patches = plt.hist(preds_1, bins=100, density=1, cumulative=0)\n",
    "plt.title('Predictive distribution for class y=1')\n",
    "plt.show()"
   ]
  },
  {
   "cell_type": "markdown",
   "metadata": {
    "id": "Dbs3XLgQoYjh",
    "slideshow": {
     "slide_type": "slide"
    }
   },
   "source": [
    "## Use a library to do the same thing! - SciKit Learn\n",
    "\n",
    "We can use SciKit Learn (sklearn) to do the same thing with a couple lines of code!:\n",
    "\n"
   ]
  },
  {
   "cell_type": "code",
   "execution_count": 19,
   "metadata": {
    "colab": {
     "base_uri": "https://localhost:8080/"
    },
    "executionInfo": {
     "elapsed": 18156,
     "status": "ok",
     "timestamp": 1608232723150,
     "user": {
      "displayName": "Benedict Paten",
      "photoUrl": "https://lh3.googleusercontent.com/a-/AOh14Gh2rYrrH6yoNnUp0Oj4p4ouybc6ZcWGyPmKFtIY=s64",
      "userId": "06399644931392855882"
     },
     "user_tz": 480
    },
    "id": "HaCXojqDoYji",
    "outputId": "5c446efb-0e14-46fd-a4a8-3c2a49dfc682",
    "slideshow": {
     "slide_type": "subslide"
    }
   },
   "outputs": [
    {
     "name": "stdout",
     "output_type": "stream",
     "text": [
      "sklearn, w, b, score:  0.127488 0.072658 0.668967\n",
      "manualr, w, b, score:  0.127488 0.072658 0.668967\n"
     ]
    }
   ],
   "source": [
    "x = df[['uniformity-of-cell-size']]\n",
    "y = df['class']\n",
    "\n",
    "from sklearn import datasets, linear_model\n",
    "\n",
    "lm_model = linear_model.LinearRegression(fit_intercept=True, normalize=True, copy_X=True, n_jobs=1)\n",
    "lm_model.fit(x, y)\n",
    "\n",
    "print(\"sklearn, w, b, score: \", round(lm_model.coef_[0], 6), round(lm_model.intercept_, 6), round(lm_model.score(x,y), 6))\n",
    "print(\"manualr, w, b, score: \", round(w, 6) , round(b, 6), round(score, 6))\n",
    "# So, we have learned the same co-efficents (or, almost the same) through a library."
   ]
  },
  {
   "cell_type": "markdown",
   "metadata": {
    "id": "xNGaTWmCoYj0",
    "slideshow": {
     "slide_type": "slide"
    }
   },
   "source": [
    "# Accuracy and Classification\n",
    "\n",
    "We have create a \"regression model\", which predicts a continious value. However, what we actually want for this task is a classifier - a model which predicts either \"true\" (malignant) or \"benign\" (false). We can make a classifier from our regression model in the simplest way possible: by picking a threshold.\n",
    "\n",
    "From the above plots it looks like 0.2 is a good cutoff? Let's pick that and look at the accuracy of the model, i.e. how accurate is the model when we say y'_i > 0.2 is \"true\" but otherwise \"false\":"
   ]
  },
  {
   "cell_type": "code",
   "execution_count": 20,
   "metadata": {
    "colab": {
     "base_uri": "https://localhost:8080/"
    },
    "executionInfo": {
     "elapsed": 18151,
     "status": "ok",
     "timestamp": 1608232723151,
     "user": {
      "displayName": "Benedict Paten",
      "photoUrl": "https://lh3.googleusercontent.com/a-/AOh14Gh2rYrrH6yoNnUp0Oj4p4ouybc6ZcWGyPmKFtIY=s64",
      "userId": "06399644931392855882"
     },
     "user_tz": 480
    },
    "id": "tYmKKmP5oYj0",
    "outputId": "939d726f-08aa-4356-bf22-7abd186a88ec",
    "slideshow": {
     "slide_type": "subslide"
    }
   },
   "outputs": [
    {
     "data": {
      "text/plain": [
       "0.882689556509299"
      ]
     },
     "execution_count": 20,
     "metadata": {
      "tags": []
     },
     "output_type": "execute_result"
    }
   ],
   "source": [
    "y_pred = lm_model.predict(x)\n",
    "y_pred = [1 if p > 0.2 else 0 for p in y_pred]\n",
    "from sklearn.metrics import accuracy_score\n",
    "accuracy_score(y, y_pred)"
   ]
  },
  {
   "cell_type": "markdown",
   "metadata": {
    "id": "-syKfRjoPfg6",
    "slideshow": {
     "slide_type": "subslide"
    }
   },
   "source": [
    "Not bad! However, there is a lot more to this - we haven't considered:\n",
    "\n",
    "* Integrating multiple variables\n",
    "* Switching models - e.g. logisitic rather than linear regression is generally used for classification rather than regression tasks\n",
    "* Splitting out test data from out training data.\n",
    "\n",
    "Take a look at the SciKit Learn tutorial if you'd like to dig in more."
   ]
  },
  {
   "cell_type": "markdown",
   "metadata": {
    "id": "bAiS4R78DAFG",
    "slideshow": {
     "slide_type": "slide"
    }
   },
   "source": [
    "# Summary / Lectures Wrap\n",
    "\n",
    "Okay, we've covered a lot of concepts and shown how we can code from first principles a machine learning algorithm to predict malignancy!\n",
    "\n",
    "Obviously, we've barely scratched the surface, but you should know that you're now much closer to doing real data science yourself than you were 10 weeks ago.\n",
    "\n",
    "We've now completed all the lectures - well done and thanks for listening, I appreciate it :)\n",
    "\n",
    "Next lecture we'll reserve for a revision session."
   ]
  },
  {
   "cell_type": "markdown",
   "metadata": {
    "id": "dmAL9iwSOLTo",
    "slideshow": {
     "slide_type": "slide"
    }
   },
   "source": [
    "# Numpy, Pandas, Sklearn and Matplotlib Reading (this won't be on the exam!)\n",
    "\n",
    "* Browse through the NumPy tutorial here: https://docs.scipy.org/doc/numpy/user/quickstart.html\n",
    "* Browse through the Pyplot tutorial here:\n",
    "https://matplotlib.org/tutorials/introductory/pyplot.html#sphx-glr-tutorials-introductory-pyplot-py\n",
    "* Browse the Pandas 10 min tutorial: https://pandas.pydata.org/pandas-docs/stable/getting_started/10min.html#min\n",
    "* Browse through the SciKit Learn tutorial here: https://scikit-learn.org/stable/tutorial/basic/tutorial.html#learning-and-predicting\n",
    "\n",
    "# Homework\n",
    "\n",
    "* Zybooks Reading 18\n",
    "\n",
    "\n"
   ]
  },
  {
   "cell_type": "markdown",
   "metadata": {
    "id": "cbJtgBl3tYC2",
    "slideshow": {
     "slide_type": "slide"
    }
   },
   "source": [
    "#Appendix - Exploring Numpy, Matplotlib and Pandas"
   ]
  },
  {
   "cell_type": "markdown",
   "metadata": {
    "id": "rCZOXyxJ4IrR"
   },
   "source": [
    "# NumPy Arrays\n",
    "\n",
    "* NumPy is a Python library for efficiently representing multi-dimensional arrays (e.g. matrices, tensors).\n",
    "\n",
    "* Pretty much all ML and visualization in Python relies on these array types, or things derived from them.\n",
    "\n",
    "So far we've seen multi-dimensional arrays using Python lists, e.g.:"
   ]
  },
  {
   "cell_type": "code",
   "execution_count": 21,
   "metadata": {
    "colab": {
     "base_uri": "https://localhost:8080/"
    },
    "executionInfo": {
     "elapsed": 18144,
     "status": "ok",
     "timestamp": 1608232723151,
     "user": {
      "displayName": "Benedict Paten",
      "photoUrl": "https://lh3.googleusercontent.com/a-/AOh14Gh2rYrrH6yoNnUp0Oj4p4ouybc6ZcWGyPmKFtIY=s64",
      "userId": "06399644931392855882"
     },
     "user_tz": 480
    },
    "id": "E4Pznr8D4hTK",
    "outputId": "c3a0bb50-1c90-4a92-8f7c-b36392c86931"
   },
   "outputs": [
    {
     "data": {
      "text/plain": [
       "5"
      ]
     },
     "execution_count": 21,
     "metadata": {
      "tags": []
     },
     "output_type": "execute_result"
    }
   ],
   "source": [
    "# Consider a 2D matrix represented using Python lists\n",
    "\n",
    "a = [[ 0,  1,  2,  3,  4],\n",
    "     [ 5,  6,  7,  8,  9],\n",
    "     [10, 11, 12, 13, 14]]\n",
    "\n",
    "a[1][0]"
   ]
  },
  {
   "cell_type": "markdown",
   "metadata": {
    "id": "VWin47yJ47NI"
   },
   "source": [
    "* The problem is that Python lists are general purpose and flexible and as a result both memory inefficient and really slow.\n",
    "\n",
    "* This is not a big deal with small data, but when dealing with large amounts of data this becomes of key concern.\n",
    "\n",
    "* NumPy provides fast, memory efficient array backed multi-dimensional arrays.\n",
    "\n",
    "We can directly convert to a NumPy 2D array as follows:"
   ]
  },
  {
   "cell_type": "code",
   "execution_count": 22,
   "metadata": {
    "colab": {
     "base_uri": "https://localhost:8080/"
    },
    "executionInfo": {
     "elapsed": 18139,
     "status": "ok",
     "timestamp": 1608232723152,
     "user": {
      "displayName": "Benedict Paten",
      "photoUrl": "https://lh3.googleusercontent.com/a-/AOh14Gh2rYrrH6yoNnUp0Oj4p4ouybc6ZcWGyPmKFtIY=s64",
      "userId": "06399644931392855882"
     },
     "user_tz": 480
    },
    "id": "ZdO6Z5S1545D",
    "outputId": "55eedf98-5256-4c7e-ed74-5e8dd09b8815"
   },
   "outputs": [
    {
     "data": {
      "text/plain": [
       "array([[ 0,  1,  2,  3,  4],\n",
       "       [ 5,  6,  7,  8,  9],\n",
       "       [10, 11, 12, 13, 14]])"
      ]
     },
     "execution_count": 22,
     "metadata": {
      "tags": []
     },
     "output_type": "execute_result"
    }
   ],
   "source": [
    "import numpy as np # Import the numpy library using the \n",
    "# common abbreviation np\n",
    "\n",
    "a = np.array(a) # Replace the list-of-lists with a numpy 2D array\n",
    "\n",
    "a"
   ]
  },
  {
   "cell_type": "code",
   "execution_count": 23,
   "metadata": {
    "colab": {
     "base_uri": "https://localhost:8080/"
    },
    "executionInfo": {
     "elapsed": 18135,
     "status": "ok",
     "timestamp": 1608232723152,
     "user": {
      "displayName": "Benedict Paten",
      "photoUrl": "https://lh3.googleusercontent.com/a-/AOh14Gh2rYrrH6yoNnUp0Oj4p4ouybc6ZcWGyPmKFtIY=s64",
      "userId": "06399644931392855882"
     },
     "user_tz": 480
    },
    "id": "VGi6O3Vw8mLX",
    "outputId": "091cc15c-401f-4af9-ccfb-043497bf5e7b"
   },
   "outputs": [
    {
     "data": {
      "text/plain": [
       "numpy.ndarray"
      ]
     },
     "execution_count": 23,
     "metadata": {
      "tags": []
     },
     "output_type": "execute_result"
    }
   ],
   "source": [
    "type(a)"
   ]
  },
  {
   "cell_type": "code",
   "execution_count": 24,
   "metadata": {
    "colab": {
     "base_uri": "https://localhost:8080/"
    },
    "executionInfo": {
     "elapsed": 18129,
     "status": "ok",
     "timestamp": 1608232723152,
     "user": {
      "displayName": "Benedict Paten",
      "photoUrl": "https://lh3.googleusercontent.com/a-/AOh14Gh2rYrrH6yoNnUp0Oj4p4ouybc6ZcWGyPmKFtIY=s64",
      "userId": "06399644931392855882"
     },
     "user_tz": 480
    },
    "id": "E9ntiyK568Gy",
    "outputId": "f349758c-1c09-4dc9-fd71-1468e75368c6"
   },
   "outputs": [
    {
     "name": "stdout",
     "output_type": "stream",
     "text": [
      "The first way 5\n",
      "The second way 5\n"
     ]
    }
   ],
   "source": [
    "# We can address this matrix two ways:\n",
    "\n",
    "print(\"The first way\", a[1][0]) # This looks familiar\n",
    "\n",
    "print(\"The second way\", a[1,0]) # This does not look familiar but is shorter and more efficient"
   ]
  },
  {
   "cell_type": "markdown",
   "metadata": {
    "id": "hKbKpGir7Vrf"
   },
   "source": [
    "So what is going on behind the scenes?\n",
    "\n",
    "* A NumPy array is represented as contiguous block of memory in which each value is stored in place (not as a reference to separate object):\n",
    "\n",
    "![alt text](https://github.com/thedataincubator/data-science-blogs/raw/08a364e4cf025b475e95741f97519af94fa6fd38/numpy_and_pandas/figures/row_column_ordering.png)\n",
    "\n",
    "\n",
    "* As a consequence, arrays have a \"data type\" corresponding to the way memory is represented for each value stored:"
   ]
  },
  {
   "cell_type": "code",
   "execution_count": 25,
   "metadata": {
    "colab": {
     "base_uri": "https://localhost:8080/"
    },
    "executionInfo": {
     "elapsed": 18125,
     "status": "ok",
     "timestamp": 1608232723153,
     "user": {
      "displayName": "Benedict Paten",
      "photoUrl": "https://lh3.googleusercontent.com/a-/AOh14Gh2rYrrH6yoNnUp0Oj4p4ouybc6ZcWGyPmKFtIY=s64",
      "userId": "06399644931392855882"
     },
     "user_tz": 480
    },
    "id": "4UVaYJz89VPh",
    "outputId": "dc7fd545-0dff-49df-fece-d31de8fda126"
   },
   "outputs": [
    {
     "data": {
      "text/plain": [
       "dtype('int64')"
      ]
     },
     "execution_count": 25,
     "metadata": {
      "tags": []
     },
     "output_type": "execute_result"
    }
   ],
   "source": [
    "# We can can find out the data type of a NumPy array using the dtype\n",
    "# variable:\n",
    "\n",
    "a.dtype # NumPy stores each number as an integer, each using 64 bits"
   ]
  },
  {
   "cell_type": "markdown",
   "metadata": {
    "id": "wgsMG4U591vP"
   },
   "source": [
    "If we create an array using floats then the data type will be different:"
   ]
  },
  {
   "cell_type": "code",
   "execution_count": 26,
   "metadata": {
    "colab": {
     "base_uri": "https://localhost:8080/"
    },
    "executionInfo": {
     "elapsed": 18120,
     "status": "ok",
     "timestamp": 1608232723153,
     "user": {
      "displayName": "Benedict Paten",
      "photoUrl": "https://lh3.googleusercontent.com/a-/AOh14Gh2rYrrH6yoNnUp0Oj4p4ouybc6ZcWGyPmKFtIY=s64",
      "userId": "06399644931392855882"
     },
     "user_tz": 480
    },
    "id": "eEujIl4JCayE",
    "outputId": "320915af-68ff-41cd-8f0d-a639ad8d733b"
   },
   "outputs": [
    {
     "name": "stdout",
     "output_type": "stream",
     "text": [
      "[1. 2. 4.]\n",
      "float64\n"
     ]
    }
   ],
   "source": [
    "a = np.array([ 1.0, 2, 4 ])\n",
    "\n",
    "print(a) # All numbers in the array will be represented as a float\n",
    "\n",
    "print(a.dtype) # The type is float, again each with 64 bits."
   ]
  },
  {
   "cell_type": "markdown",
   "metadata": {
    "id": "WMBfLlqfbrBk"
   },
   "source": [
    "The dimensions of a numpy array are stored using the shape and ndim attributes: "
   ]
  },
  {
   "cell_type": "code",
   "execution_count": 27,
   "metadata": {
    "colab": {
     "base_uri": "https://localhost:8080/"
    },
    "executionInfo": {
     "elapsed": 18117,
     "status": "ok",
     "timestamp": 1608232723154,
     "user": {
      "displayName": "Benedict Paten",
      "photoUrl": "https://lh3.googleusercontent.com/a-/AOh14Gh2rYrrH6yoNnUp0Oj4p4ouybc6ZcWGyPmKFtIY=s64",
      "userId": "06399644931392855882"
     },
     "user_tz": 480
    },
    "id": "TK8Sg4LQcXOo",
    "outputId": "80d49b52-84c1-459d-b62e-b5d7e10fd665"
   },
   "outputs": [
    {
     "name": "stdout",
     "output_type": "stream",
     "text": [
      "(3,)\n"
     ]
    }
   ],
   "source": [
    "print(a.shape) # The shape of the array (here it has one dimension)"
   ]
  },
  {
   "cell_type": "code",
   "execution_count": 28,
   "metadata": {
    "colab": {
     "base_uri": "https://localhost:8080/"
    },
    "executionInfo": {
     "elapsed": 18112,
     "status": "ok",
     "timestamp": 1608232723154,
     "user": {
      "displayName": "Benedict Paten",
      "photoUrl": "https://lh3.googleusercontent.com/a-/AOh14Gh2rYrrH6yoNnUp0Oj4p4ouybc6ZcWGyPmKFtIY=s64",
      "userId": "06399644931392855882"
     },
     "user_tz": 480
    },
    "id": "yghIMS5FeoIF",
    "outputId": "077a6987-79f0-4889-a074-2248a4b0d4bc"
   },
   "outputs": [
    {
     "name": "stdout",
     "output_type": "stream",
     "text": [
      "1\n"
     ]
    }
   ],
   "source": [
    "print(a.ndim) # The number of dimensions in the array"
   ]
  },
  {
   "cell_type": "code",
   "execution_count": 29,
   "metadata": {
    "colab": {
     "base_uri": "https://localhost:8080/"
    },
    "executionInfo": {
     "elapsed": 18108,
     "status": "ok",
     "timestamp": 1608232723155,
     "user": {
      "displayName": "Benedict Paten",
      "photoUrl": "https://lh3.googleusercontent.com/a-/AOh14Gh2rYrrH6yoNnUp0Oj4p4ouybc6ZcWGyPmKFtIY=s64",
      "userId": "06399644931392855882"
     },
     "user_tz": 480
    },
    "id": "ytjKBUXcb3NY",
    "outputId": "01e2d492-a107-4c7d-b4bc-8843888510d3"
   },
   "outputs": [
    {
     "name": "stdout",
     "output_type": "stream",
     "text": [
      "The dimensions of the array: (3, 5)\n",
      "The number of dimensions 2\n"
     ]
    }
   ],
   "source": [
    "# If we make the array multi-dimensional\n",
    "\n",
    "a = np.array([[ 0,  1,  2,  3,  4],\n",
    "              [ 5,  6,  7,  8,  9],\n",
    "              [10, 11, 12, 13, 14]])\n",
    "\n",
    "print(\"The dimensions of the array:\", a.shape)\n",
    "print(\"The number of dimensions\", a.ndim)"
   ]
  },
  {
   "cell_type": "markdown",
   "metadata": {
    "id": "TX4swugUfMJg"
   },
   "source": [
    "The size of a numpy array is the size attribute:"
   ]
  },
  {
   "cell_type": "code",
   "execution_count": 30,
   "metadata": {
    "colab": {
     "base_uri": "https://localhost:8080/"
    },
    "executionInfo": {
     "elapsed": 18103,
     "status": "ok",
     "timestamp": 1608232723155,
     "user": {
      "displayName": "Benedict Paten",
      "photoUrl": "https://lh3.googleusercontent.com/a-/AOh14Gh2rYrrH6yoNnUp0Oj4p4ouybc6ZcWGyPmKFtIY=s64",
      "userId": "06399644931392855882"
     },
     "user_tz": 480
    },
    "id": "cwbNbfARfRgd",
    "outputId": "1998fe6a-e749-46e0-c1aa-d5cc8b8c7d65"
   },
   "outputs": [
    {
     "name": "stdout",
     "output_type": "stream",
     "text": [
      "To get the size of the first dimension use len() 3\n",
      "The total size of the array is the .size attribute 15\n"
     ]
    }
   ],
   "source": [
    "print(\"To get the size of the first dimension use len()\", len(a))\n",
    "print(\"The total size of the array is the .size attribute\", a.size)"
   ]
  },
  {
   "cell_type": "markdown",
   "metadata": {
    "id": "CO_DodQdfeQi"
   },
   "source": [
    "Building numpy arrays from lists defeats the purpose of trying to save memory.\n",
    "\n",
    "To make large numeric arrays use zeros(), ones(), empty() or arange()\n",
    "\n",
    "\n"
   ]
  },
  {
   "cell_type": "code",
   "execution_count": 31,
   "metadata": {
    "colab": {
     "base_uri": "https://localhost:8080/"
    },
    "executionInfo": {
     "elapsed": 18258,
     "status": "ok",
     "timestamp": 1608232723315,
     "user": {
      "displayName": "Benedict Paten",
      "photoUrl": "https://lh3.googleusercontent.com/a-/AOh14Gh2rYrrH6yoNnUp0Oj4p4ouybc6ZcWGyPmKFtIY=s64",
      "userId": "06399644931392855882"
     },
     "user_tz": 480
    },
    "id": "WOxQ1-rtfkDU",
    "outputId": "bfacd4b9-eab1-4e58-a183-3ebdb56c6148"
   },
   "outputs": [
    {
     "name": "stdout",
     "output_type": "stream",
     "text": [
      "Shape: (3, 5, 6)\n",
      "Type float64\n",
      "The array\n",
      " [[[0. 0. 0. 0. 0. 0.]\n",
      "  [0. 0. 0. 0. 0. 0.]\n",
      "  [0. 0. 0. 0. 0. 0.]\n",
      "  [0. 0. 0. 0. 0. 0.]\n",
      "  [0. 0. 0. 0. 0. 0.]]\n",
      "\n",
      " [[0. 0. 0. 0. 0. 0.]\n",
      "  [0. 0. 0. 0. 0. 0.]\n",
      "  [0. 0. 0. 0. 0. 0.]\n",
      "  [0. 0. 0. 0. 0. 0.]\n",
      "  [0. 0. 0. 0. 0. 0.]]\n",
      "\n",
      " [[0. 0. 0. 0. 0. 0.]\n",
      "  [0. 0. 0. 0. 0. 0.]\n",
      "  [0. 0. 0. 0. 0. 0.]\n",
      "  [0. 0. 0. 0. 0. 0.]\n",
      "  [0. 0. 0. 0. 0. 0.]]]\n"
     ]
    }
   ],
   "source": [
    "a = np.zeros((3, 5, 6))\n",
    "\n",
    "print(\"Shape:\", a.shape)\n",
    "print(\"Type\", a.dtype) # The default type is 64bit float\n",
    "print(\"The array\\n\", a)"
   ]
  },
  {
   "cell_type": "code",
   "execution_count": 32,
   "metadata": {
    "colab": {
     "base_uri": "https://localhost:8080/"
    },
    "executionInfo": {
     "elapsed": 18252,
     "status": "ok",
     "timestamp": 1608232723316,
     "user": {
      "displayName": "Benedict Paten",
      "photoUrl": "https://lh3.googleusercontent.com/a-/AOh14Gh2rYrrH6yoNnUp0Oj4p4ouybc6ZcWGyPmKFtIY=s64",
      "userId": "06399644931392855882"
     },
     "user_tz": 480
    },
    "id": "CXoHe62pgMCW",
    "outputId": "79bfe3ca-d7e4-4c82-b147-75a2943a322b"
   },
   "outputs": [
    {
     "data": {
      "text/plain": [
       "array([[1., 1., 1., 1., 1.],\n",
       "       [1., 1., 1., 1., 1.]])"
      ]
     },
     "execution_count": 32,
     "metadata": {
      "tags": []
     },
     "output_type": "execute_result"
    }
   ],
   "source": [
    "a = np.ones((2, 5)) # To get an array containing ones\n",
    "\n",
    "a"
   ]
  },
  {
   "cell_type": "code",
   "execution_count": 33,
   "metadata": {
    "colab": {
     "base_uri": "https://localhost:8080/"
    },
    "executionInfo": {
     "elapsed": 18245,
     "status": "ok",
     "timestamp": 1608232723316,
     "user": {
      "displayName": "Benedict Paten",
      "photoUrl": "https://lh3.googleusercontent.com/a-/AOh14Gh2rYrrH6yoNnUp0Oj4p4ouybc6ZcWGyPmKFtIY=s64",
      "userId": "06399644931392855882"
     },
     "user_tz": 480
    },
    "id": "mpDirAqrgbDf",
    "outputId": "a639363b-ff41-48ea-9349-b7e69e3fa23f"
   },
   "outputs": [
    {
     "data": {
      "text/plain": [
       "array([[[3.71309542e-316, 9.23902758e-322, 0.00000000e+000,\n",
       "         0.00000000e+000, 0.00000000e+000],\n",
       "        [4.82337433e+228, 6.14415221e-144, 1.16097020e-028,\n",
       "         6.37112413e-067, 1.48419235e-071]],\n",
       "\n",
       "       [[3.89412536e-033, 3.97062373e+246, 1.16318408e-028,\n",
       "         1.26687100e-071, 1.83092966e-076],\n",
       "        [6.12579926e-062, 4.50666079e-033, 5.04621361e+180,\n",
       "         8.37170571e-144, 3.80985069e+180]],\n",
       "\n",
       "       [[3.59751658e+252, 8.76749093e+252, 5.01163215e+217,\n",
       "         8.37170074e-144, 1.25757916e-071],\n",
       "        [5.74289295e+174, 9.73746317e-072, 1.48710932e-076,\n",
       "         1.82629319e+184, 1.58268989e-319]]])"
      ]
     },
     "execution_count": 33,
     "metadata": {
      "tags": []
     },
     "output_type": "execute_result"
    }
   ],
   "source": [
    "a = np.empty((3, 2, 5)) # To get an array with unitialized memory (faster)\n",
    "\n",
    "a # Note the values have no defined value in this case"
   ]
  },
  {
   "cell_type": "code",
   "execution_count": 34,
   "metadata": {
    "colab": {
     "base_uri": "https://localhost:8080/"
    },
    "executionInfo": {
     "elapsed": 18240,
     "status": "ok",
     "timestamp": 1608232723316,
     "user": {
      "displayName": "Benedict Paten",
      "photoUrl": "https://lh3.googleusercontent.com/a-/AOh14Gh2rYrrH6yoNnUp0Oj4p4ouybc6ZcWGyPmKFtIY=s64",
      "userId": "06399644931392855882"
     },
     "user_tz": 480
    },
    "id": "KgQwVn2lhrr4",
    "outputId": "2f285028-6ff6-4c60-e30e-6f42dc665325"
   },
   "outputs": [
    {
     "data": {
      "text/plain": [
       "array([ 0,  1,  2,  3,  4,  5,  6,  7,  8,  9, 10, 11, 12, 13, 14])"
      ]
     },
     "execution_count": 34,
     "metadata": {
      "tags": []
     },
     "output_type": "execute_result"
    }
   ],
   "source": [
    "a = np.arange(15)\n",
    "\n",
    "a"
   ]
  },
  {
   "cell_type": "code",
   "execution_count": 35,
   "metadata": {
    "colab": {
     "base_uri": "https://localhost:8080/"
    },
    "executionInfo": {
     "elapsed": 18236,
     "status": "ok",
     "timestamp": 1608232723317,
     "user": {
      "displayName": "Benedict Paten",
      "photoUrl": "https://lh3.googleusercontent.com/a-/AOh14Gh2rYrrH6yoNnUp0Oj4p4ouybc6ZcWGyPmKFtIY=s64",
      "userId": "06399644931392855882"
     },
     "user_tz": 480
    },
    "id": "NUT3n54n1pCi",
    "outputId": "49dd13ee-b076-4962-96a0-4fb74e390882"
   },
   "outputs": [
    {
     "data": {
      "text/plain": [
       "array([0. , 0.2, 0.4, 0.6, 0.8, 1. , 1.2, 1.4, 1.6, 1.8, 2. , 2.2, 2.4,\n",
       "       2.6, 2.8])"
      ]
     },
     "execution_count": 35,
     "metadata": {
      "tags": []
     },
     "output_type": "execute_result"
    }
   ],
   "source": [
    "a = np.arange(0.0, 3.0, 0.2) # You can do ranges in floating point!\n",
    "\n",
    "a"
   ]
  },
  {
   "cell_type": "markdown",
   "metadata": {
    "id": "Gn7pvQl6h6Wk"
   },
   "source": [
    "A neat feature of a numpy array is that you can reshape it's dimensions with reshape():"
   ]
  },
  {
   "cell_type": "code",
   "execution_count": 36,
   "metadata": {
    "colab": {
     "base_uri": "https://localhost:8080/"
    },
    "executionInfo": {
     "elapsed": 18231,
     "status": "ok",
     "timestamp": 1608232723317,
     "user": {
      "displayName": "Benedict Paten",
      "photoUrl": "https://lh3.googleusercontent.com/a-/AOh14Gh2rYrrH6yoNnUp0Oj4p4ouybc6ZcWGyPmKFtIY=s64",
      "userId": "06399644931392855882"
     },
     "user_tz": 480
    },
    "id": "Yvt3dpTYiAuc",
    "outputId": "6cc2b0d5-6e12-476b-88e8-0b7de743434d"
   },
   "outputs": [
    {
     "name": "stdout",
     "output_type": "stream",
     "text": [
      "[[0.  0.2 0.4 0.6 0.8]\n",
      " [1.  1.2 1.4 1.6 1.8]\n",
      " [2.  2.2 2.4 2.6 2.8]]\n"
     ]
    }
   ],
   "source": [
    "a = a.reshape(3, 5)\n",
    "\n",
    "print(a)"
   ]
  },
  {
   "cell_type": "markdown",
   "metadata": {
    "id": "Q7HzGcV_hZ03"
   },
   "source": [
    "# NumPy Slices\n",
    "\n",
    "NumPy slicing on multi-dimensional arrays lets you quickly get slices of your data:"
   ]
  },
  {
   "cell_type": "code",
   "execution_count": 37,
   "metadata": {
    "colab": {
     "base_uri": "https://localhost:8080/"
    },
    "executionInfo": {
     "elapsed": 18226,
     "status": "ok",
     "timestamp": 1608232723317,
     "user": {
      "displayName": "Benedict Paten",
      "photoUrl": "https://lh3.googleusercontent.com/a-/AOh14Gh2rYrrH6yoNnUp0Oj4p4ouybc6ZcWGyPmKFtIY=s64",
      "userId": "06399644931392855882"
     },
     "user_tz": 480
    },
    "id": "lUfRNvf0ikBk",
    "outputId": "b4ac3165-469a-4836-b70c-556025fd48e0"
   },
   "outputs": [
    {
     "data": {
      "text/plain": [
       "array([[0. , 0.2, 0.4, 0.6, 0.8],\n",
       "       [1. , 1.2, 1.4, 1.6, 1.8],\n",
       "       [2. , 2.2, 2.4, 2.6, 2.8]])"
      ]
     },
     "execution_count": 37,
     "metadata": {
      "tags": []
     },
     "output_type": "execute_result"
    }
   ],
   "source": [
    "a # All of a"
   ]
  },
  {
   "cell_type": "code",
   "execution_count": 38,
   "metadata": {
    "colab": {
     "base_uri": "https://localhost:8080/"
    },
    "executionInfo": {
     "elapsed": 18220,
     "status": "ok",
     "timestamp": 1608232723318,
     "user": {
      "displayName": "Benedict Paten",
      "photoUrl": "https://lh3.googleusercontent.com/a-/AOh14Gh2rYrrH6yoNnUp0Oj4p4ouybc6ZcWGyPmKFtIY=s64",
      "userId": "06399644931392855882"
     },
     "user_tz": 480
    },
    "id": "_p0h1GUnisd6",
    "outputId": "d7da5d54-1935-4b4c-9a88-69aae2d04cf1"
   },
   "outputs": [
    {
     "data": {
      "text/plain": [
       "array([0.4, 1.4, 2.4])"
      ]
     },
     "execution_count": 38,
     "metadata": {
      "tags": []
     },
     "output_type": "execute_result"
    }
   ],
   "source": [
    "a[:,2] # Just the third elements of the 2nd dimension of the array."
   ]
  },
  {
   "cell_type": "code",
   "execution_count": 39,
   "metadata": {
    "colab": {
     "base_uri": "https://localhost:8080/"
    },
    "executionInfo": {
     "elapsed": 18214,
     "status": "ok",
     "timestamp": 1608232723318,
     "user": {
      "displayName": "Benedict Paten",
      "photoUrl": "https://lh3.googleusercontent.com/a-/AOh14Gh2rYrrH6yoNnUp0Oj4p4ouybc6ZcWGyPmKFtIY=s64",
      "userId": "06399644931392855882"
     },
     "user_tz": 480
    },
    "id": "EBbx8giEjADs",
    "outputId": "a5ceda24-0c6d-4d84-8296-4ea76f86479e"
   },
   "outputs": [
    {
     "data": {
      "text/plain": [
       "array([1.4, 1.6, 1.8])"
      ]
     },
     "execution_count": 39,
     "metadata": {
      "tags": []
     },
     "output_type": "execute_result"
    }
   ],
   "source": [
    "a[1,2:] # Just the 3rd and subsequent elements of the 2nd element \n",
    "#of the 1st dimension of the array."
   ]
  },
  {
   "cell_type": "markdown",
   "metadata": {
    "id": "sVuWDTAVwjic"
   },
   "source": [
    "# NumPy Iterators"
   ]
  },
  {
   "cell_type": "code",
   "execution_count": 40,
   "metadata": {
    "colab": {
     "base_uri": "https://localhost:8080/"
    },
    "executionInfo": {
     "elapsed": 18209,
     "status": "ok",
     "timestamp": 1608232723318,
     "user": {
      "displayName": "Benedict Paten",
      "photoUrl": "https://lh3.googleusercontent.com/a-/AOh14Gh2rYrrH6yoNnUp0Oj4p4ouybc6ZcWGyPmKFtIY=s64",
      "userId": "06399644931392855882"
     },
     "user_tz": 480
    },
    "id": "vJ-j_U94wmOr",
    "outputId": "7ad5f4f0-ee7a-4870-a932-e8bc99a4006b"
   },
   "outputs": [
    {
     "name": "stdout",
     "output_type": "stream",
     "text": [
      "[0.  0.2 0.4 0.6 0.8]\n",
      "[1.  1.2 1.4 1.6 1.8]\n",
      "[2.  2.2 2.4 2.6 2.8]\n"
     ]
    }
   ],
   "source": [
    "for i in a: # By default NumPy iterates over rows\n",
    "  print(i) "
   ]
  },
  {
   "cell_type": "code",
   "execution_count": 41,
   "metadata": {
    "colab": {
     "base_uri": "https://localhost:8080/"
    },
    "executionInfo": {
     "elapsed": 18205,
     "status": "ok",
     "timestamp": 1608232723319,
     "user": {
      "displayName": "Benedict Paten",
      "photoUrl": "https://lh3.googleusercontent.com/a-/AOh14Gh2rYrrH6yoNnUp0Oj4p4ouybc6ZcWGyPmKFtIY=s64",
      "userId": "06399644931392855882"
     },
     "user_tz": 480
    },
    "id": "10PNSmqhwtcU",
    "outputId": "fac7e297-2bdd-411a-b469-cb8b100829f6"
   },
   "outputs": [
    {
     "name": "stdout",
     "output_type": "stream",
     "text": [
      "0.0\n",
      "0.2\n",
      "0.4\n",
      "0.6000000000000001\n",
      "0.8\n",
      "1.0\n",
      "1.2000000000000002\n",
      "1.4000000000000001\n",
      "1.6\n",
      "1.8\n",
      "2.0\n",
      "2.2\n",
      "2.4000000000000004\n",
      "2.6\n",
      "2.8000000000000003\n"
     ]
    }
   ],
   "source": [
    "for i in a.flat: # But you can iterate over all the elements using flat\n",
    "  print(i)"
   ]
  },
  {
   "cell_type": "markdown",
   "metadata": {
    "id": "jKeR0PfBjXXn"
   },
   "source": [
    "# NumPy Builtin Functions\n",
    "\n",
    "NumPy lets you do math with vectors."
   ]
  },
  {
   "cell_type": "code",
   "execution_count": 42,
   "metadata": {
    "colab": {
     "base_uri": "https://localhost:8080/"
    },
    "executionInfo": {
     "elapsed": 18201,
     "status": "ok",
     "timestamp": 1608232723319,
     "user": {
      "displayName": "Benedict Paten",
      "photoUrl": "https://lh3.googleusercontent.com/a-/AOh14Gh2rYrrH6yoNnUp0Oj4p4ouybc6ZcWGyPmKFtIY=s64",
      "userId": "06399644931392855882"
     },
     "user_tz": 480
    },
    "id": "1Mp5QfAFwD-_",
    "outputId": "a4559c21-c3ee-4fb5-b649-0227e5432f5b"
   },
   "outputs": [
    {
     "name": "stdout",
     "output_type": "stream",
     "text": [
      "[0 1 2 3 4 5 6 7 8 9]\n"
     ]
    }
   ],
   "source": [
    "a = np.arange(10)\n",
    "\n",
    "print(a)"
   ]
  },
  {
   "cell_type": "code",
   "execution_count": 43,
   "metadata": {
    "colab": {
     "base_uri": "https://localhost:8080/"
    },
    "executionInfo": {
     "elapsed": 18376,
     "status": "ok",
     "timestamp": 1608232723499,
     "user": {
      "displayName": "Benedict Paten",
      "photoUrl": "https://lh3.googleusercontent.com/a-/AOh14Gh2rYrrH6yoNnUp0Oj4p4ouybc6ZcWGyPmKFtIY=s64",
      "userId": "06399644931392855882"
     },
     "user_tz": 480
    },
    "id": "L6fL4h8Ejj2j",
    "outputId": "eb66fbfc-997b-44ab-e1b5-d9445f14ea73"
   },
   "outputs": [
    {
     "data": {
      "text/plain": [
       "array([1.00000000e+00, 2.71828183e+00, 7.38905610e+00, 2.00855369e+01,\n",
       "       5.45981500e+01, 1.48413159e+02, 4.03428793e+02, 1.09663316e+03,\n",
       "       2.98095799e+03, 8.10308393e+03])"
      ]
     },
     "execution_count": 43,
     "metadata": {
      "tags": []
     },
     "output_type": "execute_result"
    }
   ],
   "source": [
    "np.exp(a) # Calculate e**x for each entry x in the array"
   ]
  },
  {
   "cell_type": "code",
   "execution_count": 44,
   "metadata": {
    "colab": {
     "base_uri": "https://localhost:8080/"
    },
    "executionInfo": {
     "elapsed": 18371,
     "status": "ok",
     "timestamp": 1608232723499,
     "user": {
      "displayName": "Benedict Paten",
      "photoUrl": "https://lh3.googleusercontent.com/a-/AOh14Gh2rYrrH6yoNnUp0Oj4p4ouybc6ZcWGyPmKFtIY=s64",
      "userId": "06399644931392855882"
     },
     "user_tz": 480
    },
    "id": "va-K9CNKuogW",
    "outputId": "a735d725-744c-4be8-d926-2b43614f8cef"
   },
   "outputs": [
    {
     "data": {
      "text/plain": [
       "array([0.        , 1.        , 1.41421356, 1.73205081, 2.        ,\n",
       "       2.23606798, 2.44948974, 2.64575131, 2.82842712, 3.        ])"
      ]
     },
     "execution_count": 44,
     "metadata": {
      "tags": []
     },
     "output_type": "execute_result"
    }
   ],
   "source": [
    "np.sqrt(a) # Calculate sqrt(x) for each entry x in the array"
   ]
  },
  {
   "cell_type": "markdown",
   "metadata": {
    "id": "X3PdgeZTxUCO"
   },
   "source": [
    "NumPy has lots of builtin math functions!"
   ]
  },
  {
   "cell_type": "markdown",
   "metadata": {
    "id": "Dj5MrBHnxXvR"
   },
   "source": [
    "# NumPy Operator Overloading"
   ]
  },
  {
   "cell_type": "code",
   "execution_count": 45,
   "metadata": {
    "colab": {
     "base_uri": "https://localhost:8080/"
    },
    "executionInfo": {
     "elapsed": 18367,
     "status": "ok",
     "timestamp": 1608232723499,
     "user": {
      "displayName": "Benedict Paten",
      "photoUrl": "https://lh3.googleusercontent.com/a-/AOh14Gh2rYrrH6yoNnUp0Oj4p4ouybc6ZcWGyPmKFtIY=s64",
      "userId": "06399644931392855882"
     },
     "user_tz": 480
    },
    "id": "oPFTh9-Tx3no",
    "outputId": "fdbe8722-e7fd-454f-ba7e-583bdce9f8fc"
   },
   "outputs": [
    {
     "data": {
      "text/plain": [
       "array([10, 11, 12, 13, 14, 15, 16, 17, 18, 19])"
      ]
     },
     "execution_count": 45,
     "metadata": {
      "tags": []
     },
     "output_type": "execute_result"
    }
   ],
   "source": [
    "a = np.arange(10)\n",
    "\n",
    "\n",
    "a + 10 # Add ten to each value"
   ]
  },
  {
   "cell_type": "code",
   "execution_count": 46,
   "metadata": {
    "colab": {
     "base_uri": "https://localhost:8080/"
    },
    "executionInfo": {
     "elapsed": 18363,
     "status": "ok",
     "timestamp": 1608232723500,
     "user": {
      "displayName": "Benedict Paten",
      "photoUrl": "https://lh3.googleusercontent.com/a-/AOh14Gh2rYrrH6yoNnUp0Oj4p4ouybc6ZcWGyPmKFtIY=s64",
      "userId": "06399644931392855882"
     },
     "user_tz": 480
    },
    "id": "a46GdNwox9qB",
    "outputId": "839591cc-187c-4825-c576-1215fb7cc90c"
   },
   "outputs": [
    {
     "data": {
      "text/plain": [
       "array([ 0,  1,  4,  9, 16, 25, 36, 49, 64, 81])"
      ]
     },
     "execution_count": 46,
     "metadata": {
      "tags": []
     },
     "output_type": "execute_result"
    }
   ],
   "source": [
    "a**2 # Make square of each number"
   ]
  },
  {
   "cell_type": "markdown",
   "metadata": {
    "id": "udWGvYg_yGR2"
   },
   "source": [
    "etc... each of these operators makes a new array.\n",
    "\n",
    "To edit the array in place use the increment operators:"
   ]
  },
  {
   "cell_type": "code",
   "execution_count": 47,
   "metadata": {
    "colab": {
     "base_uri": "https://localhost:8080/"
    },
    "executionInfo": {
     "elapsed": 18359,
     "status": "ok",
     "timestamp": 1608232723500,
     "user": {
      "displayName": "Benedict Paten",
      "photoUrl": "https://lh3.googleusercontent.com/a-/AOh14Gh2rYrrH6yoNnUp0Oj4p4ouybc6ZcWGyPmKFtIY=s64",
      "userId": "06399644931392855882"
     },
     "user_tz": 480
    },
    "id": "OuzDzBAyyT3Z",
    "outputId": "b9882455-65d5-491c-aecb-a35118c80fc3"
   },
   "outputs": [
    {
     "name": "stdout",
     "output_type": "stream",
     "text": [
      "[0 1 2 3 4 5 6 7 8 9]\n"
     ]
    }
   ],
   "source": [
    "a + 10\n",
    "\n",
    "print(a) # a is not changed"
   ]
  },
  {
   "cell_type": "code",
   "execution_count": 48,
   "metadata": {
    "colab": {
     "base_uri": "https://localhost:8080/"
    },
    "executionInfo": {
     "elapsed": 18354,
     "status": "ok",
     "timestamp": 1608232723500,
     "user": {
      "displayName": "Benedict Paten",
      "photoUrl": "https://lh3.googleusercontent.com/a-/AOh14Gh2rYrrH6yoNnUp0Oj4p4ouybc6ZcWGyPmKFtIY=s64",
      "userId": "06399644931392855882"
     },
     "user_tz": 480
    },
    "id": "16XvyKetyayj",
    "outputId": "6963f84b-c079-4e00-fecc-45f4fca4cd86"
   },
   "outputs": [
    {
     "name": "stdout",
     "output_type": "stream",
     "text": [
      "[10 11 12 13 14 15 16 17 18 19]\n"
     ]
    }
   ],
   "source": [
    "a += 10 # a is now changed in place.\n",
    "\n",
    "print(a)"
   ]
  },
  {
   "cell_type": "code",
   "execution_count": 49,
   "metadata": {
    "colab": {
     "base_uri": "https://localhost:8080/"
    },
    "executionInfo": {
     "elapsed": 18351,
     "status": "ok",
     "timestamp": 1608232723501,
     "user": {
      "displayName": "Benedict Paten",
      "photoUrl": "https://lh3.googleusercontent.com/a-/AOh14Gh2rYrrH6yoNnUp0Oj4p4ouybc6ZcWGyPmKFtIY=s64",
      "userId": "06399644931392855882"
     },
     "user_tz": 480
    },
    "id": "DtdUojAOydly",
    "outputId": "97e38679-d240-4cb0-eb3f-7058ceec7f1d"
   },
   "outputs": [
    {
     "name": "stdout",
     "output_type": "stream",
     "text": [
      "[100 121 144 169 196 225 256 289 324 361]\n"
     ]
    }
   ],
   "source": [
    "a **= 2 #ditto\n",
    "\n",
    "print(a)"
   ]
  },
  {
   "cell_type": "markdown",
   "metadata": {
    "id": "8W3ipE4yzeDv"
   },
   "source": [
    "# Linear Algebra Functions"
   ]
  },
  {
   "cell_type": "code",
   "execution_count": 50,
   "metadata": {
    "colab": {
     "base_uri": "https://localhost:8080/"
    },
    "executionInfo": {
     "elapsed": 18346,
     "status": "ok",
     "timestamp": 1608232723501,
     "user": {
      "displayName": "Benedict Paten",
      "photoUrl": "https://lh3.googleusercontent.com/a-/AOh14Gh2rYrrH6yoNnUp0Oj4p4ouybc6ZcWGyPmKFtIY=s64",
      "userId": "06399644931392855882"
     },
     "user_tz": 480
    },
    "id": "mYNXckAmzgzK",
    "outputId": "28d8f883-8f0c-45ea-f5eb-33eb9f97d895"
   },
   "outputs": [
    {
     "name": "stdout",
     "output_type": "stream",
     "text": [
      "[[1 2 3]\n",
      " [4 5 6]\n",
      " [7 8 9]]\n"
     ]
    }
   ],
   "source": [
    "a = np.array([ [1, 2, 3], [4, 5, 6], [ 7, 8, 9]])\n",
    "\n",
    "print(a)\n",
    "\n"
   ]
  },
  {
   "cell_type": "code",
   "execution_count": 51,
   "metadata": {
    "colab": {
     "base_uri": "https://localhost:8080/"
    },
    "executionInfo": {
     "elapsed": 18342,
     "status": "ok",
     "timestamp": 1608232723501,
     "user": {
      "displayName": "Benedict Paten",
      "photoUrl": "https://lh3.googleusercontent.com/a-/AOh14Gh2rYrrH6yoNnUp0Oj4p4ouybc6ZcWGyPmKFtIY=s64",
      "userId": "06399644931392855882"
     },
     "user_tz": 480
    },
    "id": "hQmGLY6Kzxyq",
    "outputId": "bb6cfb94-41f1-467a-95c3-54db07ed45f5"
   },
   "outputs": [
    {
     "data": {
      "text/plain": [
       "array([[1, 4, 7],\n",
       "       [2, 5, 8],\n",
       "       [3, 6, 9]])"
      ]
     },
     "execution_count": 51,
     "metadata": {
      "tags": []
     },
     "output_type": "execute_result"
    }
   ],
   "source": [
    "a.transpose() # Compute the transpose (rows become columns and vice versa)"
   ]
  },
  {
   "cell_type": "code",
   "execution_count": 52,
   "metadata": {
    "colab": {
     "base_uri": "https://localhost:8080/"
    },
    "executionInfo": {
     "elapsed": 18338,
     "status": "ok",
     "timestamp": 1608232723501,
     "user": {
      "displayName": "Benedict Paten",
      "photoUrl": "https://lh3.googleusercontent.com/a-/AOh14Gh2rYrrH6yoNnUp0Oj4p4ouybc6ZcWGyPmKFtIY=s64",
      "userId": "06399644931392855882"
     },
     "user_tz": 480
    },
    "id": "ANIPuF3sz9PK",
    "outputId": "660edd4c-f1ae-4f6e-b807-ce7365198e7c"
   },
   "outputs": [
    {
     "data": {
      "text/plain": [
       "array([[ 30,  36,  42],\n",
       "       [ 66,  81,  96],\n",
       "       [102, 126, 150]])"
      ]
     },
     "execution_count": 52,
     "metadata": {
      "tags": []
     },
     "output_type": "execute_result"
    }
   ],
   "source": [
    "a @ a # This is matrix multiplication"
   ]
  },
  {
   "cell_type": "markdown",
   "metadata": {
    "id": "pMkzxknYzMHz"
   },
   "source": [
    "# Plotting with MatPlotLib\n",
    "\n",
    "MatPlotLib is a Python plotting library that works with NumPy to make super nice plots. \n",
    "\n",
    "It is extremely customizable and can create very fancy plots.\n",
    "\n",
    "It's pyplot function provides a MATLAB-like interface to the library for making plots.\n",
    "\n",
    "We can use NumPy and MatPlotLib to create complex data visualization. Here we'll just look at histograms and graphing functions (like on a graphical calculator):"
   ]
  },
  {
   "cell_type": "markdown",
   "metadata": {
    "id": "sEv428bW4vBa"
   },
   "source": [
    "# Histograms"
   ]
  },
  {
   "cell_type": "code",
   "execution_count": 53,
   "metadata": {
    "colab": {
     "base_uri": "https://localhost:8080/"
    },
    "executionInfo": {
     "elapsed": 18335,
     "status": "ok",
     "timestamp": 1608232723502,
     "user": {
      "displayName": "Benedict Paten",
      "photoUrl": "https://lh3.googleusercontent.com/a-/AOh14Gh2rYrrH6yoNnUp0Oj4p4ouybc6ZcWGyPmKFtIY=s64",
      "userId": "06399644931392855882"
     },
     "user_tz": 480
    },
    "id": "H3D4I5Ok3qXT",
    "outputId": "70261e13-a96c-4756-f923-6bb43721d4f0"
   },
   "outputs": [
    {
     "name": "stdout",
     "output_type": "stream",
     "text": [
      "[1.70055992 1.30043357 1.70693918 2.27362291 2.31246949 1.88424835\n",
      " 1.58146116 2.92824016 1.79634972 2.3699694  2.04365748 2.20992765\n",
      " 2.22228306 3.12773578 2.05901082 2.01793196 2.50347479 2.29811403\n",
      " 1.49105499 2.38417863 2.40862189 2.00880862 2.63970828 2.24371705\n",
      " 2.30053392 1.0551204  2.71051495 2.24659169 1.76264307 2.33133495\n",
      " 1.9914845  2.29639816 1.67676601 1.85891699 1.58842677 1.99535221\n",
      " 1.22198459 1.8109965  2.5304442  1.45118997 2.42331936 0.99305884\n",
      " 1.73075588 1.80101312 2.29804714 2.12497938 2.95581481 2.3080033\n",
      " 1.79034662 1.52229439 2.00702655 1.83266362 2.97113236 1.71214925\n",
      " 1.98999875 1.73919328 1.77992231 2.32998606 1.44790481 1.47219336\n",
      " 1.47177617 1.83981718 2.0295434  2.4364522  2.65552696 1.85747477\n",
      " 1.71749473 2.23401222 1.83693996 2.08643994 1.81719854 1.5965453\n",
      " 2.49626779 2.78162801 1.23892416 2.49173578 2.04977899 2.10208781\n",
      " 1.93544228 2.36958036 1.3884895  1.84351965 1.49296912 2.26677575\n",
      " 2.2841375  1.27210908 1.70584172 2.46155142 1.43170969 1.64341091\n",
      " 1.43452566 1.81228949 1.95192573 2.57477207 2.24575945 2.52782299\n",
      " 1.37329136 2.32530451 1.60069163 1.9497435 ]\n"
     ]
    }
   ],
   "source": [
    "# Build a vector of 10000 samples from a normal distribution with variance 0.5^2 and mean 2\n",
    "mean, variance_sqrt = 2, 0.5\n",
    "v = np.random.normal(mean, variance_sqrt, 100000) # Random module allows you to create\n",
    "# arrays of random numbers drawn from a given distribution.\n",
    "\n",
    "print(v[:100]) # First 100 members of array"
   ]
  },
  {
   "cell_type": "code",
   "execution_count": 54,
   "metadata": {
    "colab": {
     "base_uri": "https://localhost:8080/",
     "height": 0
    },
    "executionInfo": {
     "elapsed": 18686,
     "status": "ok",
     "timestamp": 1608232723858,
     "user": {
      "displayName": "Benedict Paten",
      "photoUrl": "https://lh3.googleusercontent.com/a-/AOh14Gh2rYrrH6yoNnUp0Oj4p4ouybc6ZcWGyPmKFtIY=s64",
      "userId": "06399644931392855882"
     },
     "user_tz": 480
    },
    "id": "hShVKiNS3JMc",
    "outputId": "eeb0e519-b232-4a1c-af90-96ef81d6a0b6"
   },
   "outputs": [
    {
     "data": {
      "image/png": "[encoded data removed]",
      "text/plain": [
       "<Figure size 432x288 with 1 Axes>"
      ]
     },
     "metadata": {
      "needs_background": "light",
      "tags": []
     },
     "output_type": "display_data"
    }
   ],
   "source": [
    "import matplotlib.pyplot as plt # Import pyplot\n",
    "\n",
    "# Plot a histogram with 50 bins\n",
    "plt.hist(v, bins=50)       # pyplot call to create a histogram with 50 bins\n",
    "plt.show() # This call is what causes the plot to create the graphic"
   ]
  },
  {
   "cell_type": "code",
   "execution_count": 55,
   "metadata": {
    "colab": {
     "base_uri": "https://localhost:8080/",
     "height": 0
    },
    "executionInfo": {
     "elapsed": 18888,
     "status": "ok",
     "timestamp": 1608232724064,
     "user": {
      "displayName": "Benedict Paten",
      "photoUrl": "https://lh3.googleusercontent.com/a-/AOh14Gh2rYrrH6yoNnUp0Oj4p4ouybc6ZcWGyPmKFtIY=s64",
      "userId": "06399644931392855882"
     },
     "user_tz": 480
    },
    "id": "tG8gFG9A30Ud",
    "outputId": "ea09e96f-2144-4856-98e8-5900855a1cdc"
   },
   "outputs": [
    {
     "data": {
      "image/png": "[encoded data removed]",
      "text/plain": [
       "<Figure size 432x288 with 1 Axes>"
      ]
     },
     "metadata": {
      "needs_background": "light",
      "tags": []
     },
     "output_type": "display_data"
    }
   ],
   "source": [
    "# Plot a normalized histogram with 50 bins\n",
    "plt.hist(v, bins=50, density=1)  # Density argument normalizes histogram \n",
    "plt.show()"
   ]
  },
  {
   "cell_type": "code",
   "execution_count": 56,
   "metadata": {
    "colab": {
     "base_uri": "https://localhost:8080/",
     "height": 0
    },
    "executionInfo": {
     "elapsed": 19045,
     "status": "ok",
     "timestamp": 1608232724226,
     "user": {
      "displayName": "Benedict Paten",
      "photoUrl": "https://lh3.googleusercontent.com/a-/AOh14Gh2rYrrH6yoNnUp0Oj4p4ouybc6ZcWGyPmKFtIY=s64",
      "userId": "06399644931392855882"
     },
     "user_tz": 480
    },
    "id": "uosJHum14Pbi",
    "outputId": "530a04c3-362d-4761-f51e-387538af89b1"
   },
   "outputs": [
    {
     "data": {
      "image/png": "[encoded data removed]",
      "text/plain": [
       "<Figure size 432x288 with 1 Axes>"
      ]
     },
     "metadata": {
      "needs_background": "light",
      "tags": []
     },
     "output_type": "display_data"
    }
   ],
   "source": [
    "# Plot a normalized histogram with 50 bins and label axes, title, etc.\n",
    "plt.hist(v, bins=50, density=1)  # Density argument normalizes histogram \n",
    "plt.ylabel('density')\n",
    "plt.xlabel('x')\n",
    "plt.title('A Histogram')\n",
    "plt.show()"
   ]
  },
  {
   "cell_type": "markdown",
   "metadata": {
    "id": "fsZRykhb4xap"
   },
   "source": [
    "# Graphing Functions\n",
    "\n",
    "This allows us to introduce the basic plot command:"
   ]
  },
  {
   "cell_type": "code",
   "execution_count": 57,
   "metadata": {
    "colab": {
     "base_uri": "https://localhost:8080/",
     "height": 0
    },
    "executionInfo": {
     "elapsed": 19214,
     "status": "ok",
     "timestamp": 1608232724400,
     "user": {
      "displayName": "Benedict Paten",
      "photoUrl": "https://lh3.googleusercontent.com/a-/AOh14Gh2rYrrH6yoNnUp0Oj4p4ouybc6ZcWGyPmKFtIY=s64",
      "userId": "06399644931392855882"
     },
     "user_tz": 480
    },
    "id": "Ta6uxK0L4zkE",
    "outputId": "f4b0f44f-cb64-4773-a4f9-05d99fa711c8"
   },
   "outputs": [
    {
     "data": {
      "image/png": "[encoded data removed]",
      "text/plain": [
       "<Figure size 432x288 with 1 Axes>"
      ]
     },
     "metadata": {
      "needs_background": "light",
      "tags": []
     },
     "output_type": "display_data"
    }
   ],
   "source": [
    "# If you just give it one array (list or numpy array, it assumes that these are the y values)\n",
    "plt.plot([1, 2, 3, 4], \"ro\") # \"ro\" makes pyplot create red points \n",
    "plt.show()"
   ]
  },
  {
   "cell_type": "code",
   "execution_count": 58,
   "metadata": {
    "colab": {
     "base_uri": "https://localhost:8080/",
     "height": 0
    },
    "executionInfo": {
     "elapsed": 19612,
     "status": "ok",
     "timestamp": 1608232724803,
     "user": {
      "displayName": "Benedict Paten",
      "photoUrl": "https://lh3.googleusercontent.com/a-/AOh14Gh2rYrrH6yoNnUp0Oj4p4ouybc6ZcWGyPmKFtIY=s64",
      "userId": "06399644931392855882"
     },
     "user_tz": 480
    },
    "id": "CXLLYGfC6nlX",
    "outputId": "9082aaca-4a0f-4923-da03-4ea3069625c3"
   },
   "outputs": [
    {
     "data": {
      "image/png": "[encoded data removed]",
      "text/plain": [
       "<Figure size 432x288 with 1 Axes>"
      ]
     },
     "metadata": {
      "needs_background": "light",
      "tags": []
     },
     "output_type": "display_data"
    }
   ],
   "source": [
    "plt.plot([5, 10, 15, 20], [2, 4, 8, 16], 'ro') # If you give it two arrays, it treats\n",
    "# each pair of elements of the two lists, e.g. (5, 2), (10, 4), etc. as points on the 2D plane\n",
    "plt.show()"
   ]
  },
  {
   "cell_type": "markdown",
   "metadata": {
    "id": "CQHR2oux72KK"
   },
   "source": [
    "We can use this to graph functions really easily:"
   ]
  },
  {
   "cell_type": "code",
   "execution_count": 59,
   "metadata": {
    "colab": {
     "base_uri": "https://localhost:8080/",
     "height": 0
    },
    "executionInfo": {
     "elapsed": 19609,
     "status": "ok",
     "timestamp": 1608232724804,
     "user": {
      "displayName": "Benedict Paten",
      "photoUrl": "https://lh3.googleusercontent.com/a-/AOh14Gh2rYrrH6yoNnUp0Oj4p4ouybc6ZcWGyPmKFtIY=s64",
      "userId": "06399644931392855882"
     },
     "user_tz": 480
    },
    "id": "_eohCP8U7g3y",
    "outputId": "7715768e-f5dc-44b7-bad0-109671185b28"
   },
   "outputs": [
    {
     "data": {
      "image/png": "[encoded data removed]",
      "text/plain": [
       "<Figure size 432x288 with 1 Axes>"
      ]
     },
     "metadata": {
      "needs_background": "light",
      "tags": []
     },
     "output_type": "display_data"
    }
   ],
   "source": [
    "# evenly sampled points from 0 to 5 and 0.2 intervals\n",
    "t = np.arange(0., 5., 0.2)\n",
    "\n",
    "# red dashes, blue squares and green triangles\n",
    "plt.plot(t, t**2, 'bs')\n",
    "plt.show()"
   ]
  },
  {
   "cell_type": "markdown",
   "metadata": {
    "id": "9ccAHRwR77tA"
   },
   "source": [
    "If we give it multiple pairs of arrays we can show multiple lines on the same plot:"
   ]
  },
  {
   "cell_type": "code",
   "execution_count": 60,
   "metadata": {
    "colab": {
     "base_uri": "https://localhost:8080/",
     "height": 0
    },
    "executionInfo": {
     "elapsed": 19909,
     "status": "ok",
     "timestamp": 1608232725110,
     "user": {
      "displayName": "Benedict Paten",
      "photoUrl": "https://lh3.googleusercontent.com/a-/AOh14Gh2rYrrH6yoNnUp0Oj4p4ouybc6ZcWGyPmKFtIY=s64",
      "userId": "06399644931392855882"
     },
     "user_tz": 480
    },
    "id": "ChAY5GxM7M0z",
    "outputId": "e4e80927-7740-4056-8b59-31bd23fd86de"
   },
   "outputs": [
    {
     "data": {
      "image/png": "[encoded data removed]",
      "text/plain": [
       "<Figure size 432x288 with 1 Axes>"
      ]
     },
     "metadata": {
      "needs_background": "light",
      "tags": []
     },
     "output_type": "display_data"
    }
   ],
   "source": [
    "# evenly sampled time at 200ms intervals\n",
    "t = np.arange(0., 5., 0.2)\n",
    "\n",
    "# red dashes, blue squares and green triangles\n",
    "plt.plot(t, t, 'r--', t, t**2, 'bs', t, t**3, 'g^')\n",
    "plt.show()"
   ]
  },
  {
   "cell_type": "markdown",
   "metadata": {
    "id": "LNuqng7FEldV"
   },
   "source": [
    "# Pandas Series\n",
    "\n",
    "\n",
    "The basic array object in Pandas is the series object, it is very NumPy array like and most of the stuff we showed for NumPy arrays works with series:"
   ]
  },
  {
   "cell_type": "code",
   "execution_count": 61,
   "metadata": {
    "colab": {
     "base_uri": "https://localhost:8080/"
    },
    "executionInfo": {
     "elapsed": 19906,
     "status": "ok",
     "timestamp": 1608232725111,
     "user": {
      "displayName": "Benedict Paten",
      "photoUrl": "https://lh3.googleusercontent.com/a-/AOh14Gh2rYrrH6yoNnUp0Oj4p4ouybc6ZcWGyPmKFtIY=s64",
      "userId": "06399644931392855882"
     },
     "user_tz": 480
    },
    "id": "WvhLO5qjDc-r",
    "outputId": "218c6dfb-b008-47e1-fc32-3c495675dfb3"
   },
   "outputs": [
    {
     "data": {
      "text/plain": [
       "0    0\n",
       "1    1\n",
       "2    2\n",
       "3    3\n",
       "4    4\n",
       "dtype: int64"
      ]
     },
     "execution_count": 61,
     "metadata": {
      "tags": []
     },
     "output_type": "execute_result"
    }
   ],
   "source": [
    "import numpy as np\n",
    "import pandas as pd # Standard pandas abbreviation to pd\n",
    "\n",
    "s = pd.Series(np.arange(5))\n",
    "\n",
    "s"
   ]
  },
  {
   "cell_type": "markdown",
   "metadata": {
    "id": "udfsAx1ZHN8P"
   },
   "source": [
    "Under the hood it is organized like NumPy, and is mostly compatible and functional like a NumPy array.\n",
    "\n",
    "However, it is not a multi-dimensional object:"
   ]
  },
  {
   "cell_type": "code",
   "execution_count": 62,
   "metadata": {
    "colab": {
     "base_uri": "https://localhost:8080/",
     "height": 414
    },
    "executionInfo": {
     "elapsed": 20470,
     "status": "error",
     "timestamp": 1608232725679,
     "user": {
      "displayName": "Benedict Paten",
      "photoUrl": "https://lh3.googleusercontent.com/a-/AOh14Gh2rYrrH6yoNnUp0Oj4p4ouybc6ZcWGyPmKFtIY=s64",
      "userId": "06399644931392855882"
     },
     "user_tz": 480
    },
    "id": "wU-yGhdeHCsZ",
    "outputId": "728c1343-a987-4262-ccee-a70e66a75af1"
   },
   "outputs": [
    {
     "name": "stdout",
     "output_type": "stream",
     "text": [
      "[[3 4 5]\n",
      " [6 7 8]]\n"
     ]
    },
    {
     "ename": "Exception",
     "evalue": "ignored",
     "output_type": "error",
     "traceback": [
      "\u001b[0;31m---------------------------------------------------------------------------\u001b[0m",
      "\u001b[0;31mException\u001b[0m                                 Traceback (most recent call last)",
      "\u001b[0;32m<ipython-input-62-040da8c0bad8>\u001b[0m in \u001b[0;36m<module>\u001b[0;34m()\u001b[0m\n\u001b[1;32m      3\u001b[0m \u001b[0mprint\u001b[0m\u001b[0;34m(\u001b[0m\u001b[0ma\u001b[0m\u001b[0;34m)\u001b[0m\u001b[0;34m\u001b[0m\u001b[0;34m\u001b[0m\u001b[0m\n\u001b[1;32m      4\u001b[0m \u001b[0;34m\u001b[0m\u001b[0m\n\u001b[0;32m----> 5\u001b[0;31m \u001b[0ms\u001b[0m \u001b[0;34m=\u001b[0m \u001b[0mpd\u001b[0m\u001b[0;34m.\u001b[0m\u001b[0mSeries\u001b[0m\u001b[0;34m(\u001b[0m\u001b[0ma\u001b[0m\u001b[0;34m)\u001b[0m \u001b[0;31m# This doesn't work, because Pandas series are one dimensional\u001b[0m\u001b[0;34m\u001b[0m\u001b[0;34m\u001b[0m\u001b[0m\n\u001b[0m\u001b[1;32m      6\u001b[0m \u001b[0;34m\u001b[0m\u001b[0m\n\u001b[1;32m      7\u001b[0m \u001b[0mprint\u001b[0m\u001b[0;34m(\u001b[0m\u001b[0ms\u001b[0m\u001b[0;34m)\u001b[0m\u001b[0;34m\u001b[0m\u001b[0;34m\u001b[0m\u001b[0m\n",
      "\u001b[0;32m/usr/local/lib/python3.6/dist-packages/pandas/core/series.py\u001b[0m in \u001b[0;36m__init__\u001b[0;34m(self, data, index, dtype, name, copy, fastpath)\u001b[0m\n\u001b[1;32m    325\u001b[0m                     \u001b[0mdata\u001b[0m \u001b[0;34m=\u001b[0m \u001b[0mdata\u001b[0m\u001b[0;34m.\u001b[0m\u001b[0mcopy\u001b[0m\u001b[0;34m(\u001b[0m\u001b[0;34m)\u001b[0m\u001b[0;34m\u001b[0m\u001b[0;34m\u001b[0m\u001b[0m\n\u001b[1;32m    326\u001b[0m             \u001b[0;32melse\u001b[0m\u001b[0;34m:\u001b[0m\u001b[0;34m\u001b[0m\u001b[0;34m\u001b[0m\u001b[0m\n\u001b[0;32m--> 327\u001b[0;31m                 \u001b[0mdata\u001b[0m \u001b[0;34m=\u001b[0m \u001b[0msanitize_array\u001b[0m\u001b[0;34m(\u001b[0m\u001b[0mdata\u001b[0m\u001b[0;34m,\u001b[0m \u001b[0mindex\u001b[0m\u001b[0;34m,\u001b[0m \u001b[0mdtype\u001b[0m\u001b[0;34m,\u001b[0m \u001b[0mcopy\u001b[0m\u001b[0;34m,\u001b[0m \u001b[0mraise_cast_failure\u001b[0m\u001b[0;34m=\u001b[0m\u001b[0;32mTrue\u001b[0m\u001b[0;34m)\u001b[0m\u001b[0;34m\u001b[0m\u001b[0;34m\u001b[0m\u001b[0m\n\u001b[0m\u001b[1;32m    328\u001b[0m \u001b[0;34m\u001b[0m\u001b[0m\n\u001b[1;32m    329\u001b[0m                 \u001b[0mdata\u001b[0m \u001b[0;34m=\u001b[0m \u001b[0mSingleBlockManager\u001b[0m\u001b[0;34m.\u001b[0m\u001b[0mfrom_array\u001b[0m\u001b[0;34m(\u001b[0m\u001b[0mdata\u001b[0m\u001b[0;34m,\u001b[0m \u001b[0mindex\u001b[0m\u001b[0;34m)\u001b[0m\u001b[0;34m\u001b[0m\u001b[0;34m\u001b[0m\u001b[0m\n",
      "\u001b[0;32m/usr/local/lib/python3.6/dist-packages/pandas/core/construction.py\u001b[0m in \u001b[0;36msanitize_array\u001b[0;34m(data, index, dtype, copy, raise_cast_failure)\u001b[0m\n\u001b[1;32m    494\u001b[0m     \u001b[0;32melif\u001b[0m \u001b[0msubarr\u001b[0m\u001b[0;34m.\u001b[0m\u001b[0mndim\u001b[0m \u001b[0;34m>\u001b[0m \u001b[0;36m1\u001b[0m\u001b[0;34m:\u001b[0m\u001b[0;34m\u001b[0m\u001b[0;34m\u001b[0m\u001b[0m\n\u001b[1;32m    495\u001b[0m         \u001b[0;32mif\u001b[0m \u001b[0misinstance\u001b[0m\u001b[0;34m(\u001b[0m\u001b[0mdata\u001b[0m\u001b[0;34m,\u001b[0m \u001b[0mnp\u001b[0m\u001b[0;34m.\u001b[0m\u001b[0mndarray\u001b[0m\u001b[0;34m)\u001b[0m\u001b[0;34m:\u001b[0m\u001b[0;34m\u001b[0m\u001b[0;34m\u001b[0m\u001b[0m\n\u001b[0;32m--> 496\u001b[0;31m             \u001b[0;32mraise\u001b[0m \u001b[0mException\u001b[0m\u001b[0;34m(\u001b[0m\u001b[0;34m\"Data must be 1-dimensional\"\u001b[0m\u001b[0;34m)\u001b[0m\u001b[0;34m\u001b[0m\u001b[0;34m\u001b[0m\u001b[0m\n\u001b[0m\u001b[1;32m    497\u001b[0m         \u001b[0;32melse\u001b[0m\u001b[0;34m:\u001b[0m\u001b[0;34m\u001b[0m\u001b[0;34m\u001b[0m\u001b[0m\n\u001b[1;32m    498\u001b[0m             \u001b[0msubarr\u001b[0m \u001b[0;34m=\u001b[0m \u001b[0mcom\u001b[0m\u001b[0;34m.\u001b[0m\u001b[0masarray_tuplesafe\u001b[0m\u001b[0;34m(\u001b[0m\u001b[0mdata\u001b[0m\u001b[0;34m,\u001b[0m \u001b[0mdtype\u001b[0m\u001b[0;34m=\u001b[0m\u001b[0mdtype\u001b[0m\u001b[0;34m)\u001b[0m\u001b[0;34m\u001b[0m\u001b[0;34m\u001b[0m\u001b[0m\n",
      "\u001b[0;31mException\u001b[0m: Data must be 1-dimensional"
     ]
    }
   ],
   "source": [
    "a = np.array([ [ 3, 4, 5], [ 6, 7, 8 ]])\n",
    "\n",
    "print(a)\n",
    "\n",
    "s = pd.Series(a) # This doesn't work, because Pandas series are one dimensional\n",
    "\n",
    "print(s)\n"
   ]
  },
  {
   "cell_type": "markdown",
   "metadata": {
    "id": "RP3G-SRIIXNt"
   },
   "source": [
    "# Data Frames\n",
    "\n",
    "* Panda's Data Frames are 2D \"tables\". \n",
    "\n",
    "* Each column is a series\n",
    "\n",
    "* Think of them like a spreadsheet, with different columns having different types, etc.:"
   ]
  },
  {
   "cell_type": "code",
   "execution_count": null,
   "metadata": {
    "executionInfo": {
     "elapsed": 20093,
     "status": "aborted",
     "timestamp": 1608232725307,
     "user": {
      "displayName": "Benedict Paten",
      "photoUrl": "https://lh3.googleusercontent.com/a-/AOh14Gh2rYrrH6yoNnUp0Oj4p4ouybc6ZcWGyPmKFtIY=s64",
      "userId": "06399644931392855882"
     },
     "user_tz": 480
    },
    "id": "hory9TZ6IynU"
   },
   "outputs": [],
   "source": [
    "a = np.random.randn(6, 4) # Create a matrix of random numbers with 6 rows and 4 columns\n",
    "\n",
    "print(\"The numpy array\", a)\n",
    "\n",
    "df = pd.DataFrame(a)\n",
    "\n",
    "print(\"The corresponding data frame\\n\", df)"
   ]
  },
  {
   "cell_type": "code",
   "execution_count": null,
   "metadata": {
    "executionInfo": {
     "elapsed": 20240,
     "status": "aborted",
     "timestamp": 1608232725459,
     "user": {
      "displayName": "Benedict Paten",
      "photoUrl": "https://lh3.googleusercontent.com/a-/AOh14Gh2rYrrH6yoNnUp0Oj4p4ouybc6ZcWGyPmKFtIY=s64",
      "userId": "06399644931392855882"
     },
     "user_tz": 480
    },
    "id": "XxJMq6b_Lewk"
   },
   "outputs": [],
   "source": [
    "df.columns=list('ABCD') # We can name the columns \n",
    "\n",
    "df # IF you don't use print, it makes this nice table format in the notebook:"
   ]
  },
  {
   "cell_type": "code",
   "execution_count": null,
   "metadata": {
    "executionInfo": {
     "elapsed": 20235,
     "status": "aborted",
     "timestamp": 1608232725459,
     "user": {
      "displayName": "Benedict Paten",
      "photoUrl": "https://lh3.googleusercontent.com/a-/AOh14Gh2rYrrH6yoNnUp0Oj4p4ouybc6ZcWGyPmKFtIY=s64",
      "userId": "06399644931392855882"
     },
     "user_tz": 480
    },
    "id": "Oug4_DqGLnne"
   },
   "outputs": [],
   "source": [
    "# We can also name the rows (here we use dates as an example)\n",
    "\n",
    "dates = pd.date_range('20190501', periods=6) # Make a list of dates as a Pandas series\n",
    "\n",
    "print(\"The list of dates\\n\", dates) # \n",
    "\n",
    "df.index=dates # Now give the rows of the matrix these dates\n",
    "\n",
    "print(\"\\nThe data frame with dates naming the rows:\")\n",
    "df"
   ]
  },
  {
   "cell_type": "code",
   "execution_count": null,
   "metadata": {
    "executionInfo": {
     "elapsed": 20232,
     "status": "aborted",
     "timestamp": 1608232725460,
     "user": {
      "displayName": "Benedict Paten",
      "photoUrl": "https://lh3.googleusercontent.com/a-/AOh14Gh2rYrrH6yoNnUp0Oj4p4ouybc6ZcWGyPmKFtIY=s64",
      "userId": "06399644931392855882"
     },
     "user_tz": 480
    },
    "id": "lVypiDyAMsQX"
   },
   "outputs": [],
   "source": [
    "# We could have done this all in one line:\n",
    "\n",
    "df = pd.DataFrame(a, index=dates, columns=list(\"ABCD\"))\n",
    "\n",
    "df"
   ]
  },
  {
   "cell_type": "markdown",
   "metadata": {
    "id": "syY85SNWM76u"
   },
   "source": [
    "# Data Frames w/Heterogenous Data \n",
    "\n",
    "Data frames can also contain heterogenous types, for example by construction with a dictionary:"
   ]
  },
  {
   "cell_type": "code",
   "execution_count": null,
   "metadata": {
    "executionInfo": {
     "elapsed": 20227,
     "status": "aborted",
     "timestamp": 1608232725460,
     "user": {
      "displayName": "Benedict Paten",
      "photoUrl": "https://lh3.googleusercontent.com/a-/AOh14Gh2rYrrH6yoNnUp0Oj4p4ouybc6ZcWGyPmKFtIY=s64",
      "userId": "06399644931392855882"
     },
     "user_tz": 480
    },
    "id": "Pmvdr5EkND6y"
   },
   "outputs": [],
   "source": [
    "# Here the series are put in a dictionary and the colum indices are the keys\n",
    "\n",
    "df2 = pd.DataFrame({'A': 1.,\n",
    "                    'B': pd.Timestamp('20130102'),\n",
    "                    'C': pd.Series(1, index=list(range(4)), dtype='float32'),\n",
    "                    'D': np.array([3] * 4, dtype='int32'),\n",
    "                    'E': pd.Categorical([\"test\", \"train\", \"test\", \"train\"]),\n",
    "                    'F': 'foo'})\n",
    "\n",
    "df2"
   ]
  },
  {
   "cell_type": "code",
   "execution_count": null,
   "metadata": {
    "executionInfo": {
     "elapsed": 20223,
     "status": "aborted",
     "timestamp": 1608232725460,
     "user": {
      "displayName": "Benedict Paten",
      "photoUrl": "https://lh3.googleusercontent.com/a-/AOh14Gh2rYrrH6yoNnUp0Oj4p4ouybc6ZcWGyPmKFtIY=s64",
      "userId": "06399644931392855882"
     },
     "user_tz": 480
    },
    "id": "eyGAytxxNpcT"
   },
   "outputs": [],
   "source": [
    "df2.dtypes # The types of the different columns"
   ]
  },
  {
   "cell_type": "markdown",
   "metadata": {
    "id": "J_udj6EPN575"
   },
   "source": [
    "# Data Frame Selection, Slicing and Filter\n",
    "\n",
    "Data frames are easy to subselect by row or column, allowing you to get subsets of the data easily. \n",
    "\n"
   ]
  },
  {
   "cell_type": "markdown",
   "metadata": {
    "id": "k_1tgwWQMK_T"
   },
   "source": [
    "To select by column name use the square bracket notation:"
   ]
  },
  {
   "cell_type": "code",
   "execution_count": null,
   "metadata": {
    "executionInfo": {
     "elapsed": 20219,
     "status": "aborted",
     "timestamp": 1608232725461,
     "user": {
      "displayName": "Benedict Paten",
      "photoUrl": "https://lh3.googleusercontent.com/a-/AOh14Gh2rYrrH6yoNnUp0Oj4p4ouybc6ZcWGyPmKFtIY=s64",
      "userId": "06399644931392855882"
     },
     "user_tz": 480
    },
    "id": "4OgBnuTjnY_z"
   },
   "outputs": [],
   "source": [
    "df"
   ]
  },
  {
   "cell_type": "code",
   "execution_count": null,
   "metadata": {
    "executionInfo": {
     "elapsed": 20214,
     "status": "aborted",
     "timestamp": 1608232725461,
     "user": {
      "displayName": "Benedict Paten",
      "photoUrl": "https://lh3.googleusercontent.com/a-/AOh14Gh2rYrrH6yoNnUp0Oj4p4ouybc6ZcWGyPmKFtIY=s64",
      "userId": "06399644931392855882"
     },
     "user_tz": 480
    },
    "id": "GSLD5Oxbm-vS"
   },
   "outputs": [],
   "source": [
    "df['A'] # Select the 'A' column"
   ]
  },
  {
   "cell_type": "markdown",
   "metadata": {
    "id": "igr__op-MdNH"
   },
   "source": [
    "To select by row uses square brackets and slice notation:"
   ]
  },
  {
   "cell_type": "code",
   "execution_count": null,
   "metadata": {
    "executionInfo": {
     "elapsed": 20209,
     "status": "aborted",
     "timestamp": 1608232725461,
     "user": {
      "displayName": "Benedict Paten",
      "photoUrl": "https://lh3.googleusercontent.com/a-/AOh14Gh2rYrrH6yoNnUp0Oj4p4ouybc6ZcWGyPmKFtIY=s64",
      "userId": "06399644931392855882"
     },
     "user_tz": 480
    },
    "id": "g5vCYRBOpcEC"
   },
   "outputs": [],
   "source": [
    "df[0:2] # First two rows"
   ]
  },
  {
   "cell_type": "markdown",
   "metadata": {
    "id": "CLArVNukMx4F"
   },
   "source": [
    "To select rows and columns using indexes use the iloc index:"
   ]
  },
  {
   "cell_type": "code",
   "execution_count": null,
   "metadata": {
    "executionInfo": {
     "elapsed": 20205,
     "status": "aborted",
     "timestamp": 1608232725462,
     "user": {
      "displayName": "Benedict Paten",
      "photoUrl": "https://lh3.googleusercontent.com/a-/AOh14Gh2rYrrH6yoNnUp0Oj4p4ouybc6ZcWGyPmKFtIY=s64",
      "userId": "06399644931392855882"
     },
     "user_tz": 480
    },
    "id": "KiaaEchqL-pE"
   },
   "outputs": [],
   "source": [
    "df.iloc[:, 1:3] # Selects all the rows and the first two columns"
   ]
  },
  {
   "cell_type": "markdown",
   "metadata": {
    "id": "fCgZxRtyNlM4"
   },
   "source": [
    "To select rows by row and column names use the loc index:"
   ]
  },
  {
   "cell_type": "code",
   "execution_count": null,
   "metadata": {
    "executionInfo": {
     "elapsed": 20201,
     "status": "aborted",
     "timestamp": 1608232725462,
     "user": {
      "displayName": "Benedict Paten",
      "photoUrl": "https://lh3.googleusercontent.com/a-/AOh14Gh2rYrrH6yoNnUp0Oj4p4ouybc6ZcWGyPmKFtIY=s64",
      "userId": "06399644931392855882"
     },
     "user_tz": 480
    },
    "id": "l5oy303uNp4W"
   },
   "outputs": [],
   "source": [
    "df.loc['20190502':'20190505', ['A', 'D']]"
   ]
  },
  {
   "cell_type": "markdown",
   "metadata": {
    "id": "-WaSznMoOLIH"
   },
   "source": [
    "To filter the rows by a column attribute:"
   ]
  },
  {
   "cell_type": "code",
   "execution_count": null,
   "metadata": {
    "executionInfo": {
     "elapsed": 20196,
     "status": "aborted",
     "timestamp": 1608232725462,
     "user": {
      "displayName": "Benedict Paten",
      "photoUrl": "https://lh3.googleusercontent.com/a-/AOh14Gh2rYrrH6yoNnUp0Oj4p4ouybc6ZcWGyPmKFtIY=s64",
      "userId": "06399644931392855882"
     },
     "user_tz": 480
    },
    "id": "c7Hz4GjEOQ4U"
   },
   "outputs": [],
   "source": [
    "df[df.A > 0]"
   ]
  },
  {
   "cell_type": "markdown",
   "metadata": {
    "id": "HNefVokbNESm"
   },
   "source": [
    "Finally, to convert back to a NumPy array use .to_numpy(), then allowing you to slice using NumPy array rules:"
   ]
  },
  {
   "cell_type": "code",
   "execution_count": null,
   "metadata": {
    "executionInfo": {
     "elapsed": 20193,
     "status": "aborted",
     "timestamp": 1608232725463,
     "user": {
      "displayName": "Benedict Paten",
      "photoUrl": "https://lh3.googleusercontent.com/a-/AOh14Gh2rYrrH6yoNnUp0Oj4p4ouybc6ZcWGyPmKFtIY=s64",
      "userId": "06399644931392855882"
     },
     "user_tz": 480
    },
    "id": "tu6X87nzqH7S"
   },
   "outputs": [],
   "source": [
    "df.to_numpy() # Convert to a numpy array"
   ]
  },
  {
   "cell_type": "code",
   "execution_count": null,
   "metadata": {
    "executionInfo": {
     "elapsed": 20189,
     "status": "aborted",
     "timestamp": 1608232725463,
     "user": {
      "displayName": "Benedict Paten",
      "photoUrl": "https://lh3.googleusercontent.com/a-/AOh14Gh2rYrrH6yoNnUp0Oj4p4ouybc6ZcWGyPmKFtIY=s64",
      "userId": "06399644931392855882"
     },
     "user_tz": 480
    },
    "id": "6QWO-3WqqK_o"
   },
   "outputs": [],
   "source": [
    "df2.to_numpy()"
   ]
  },
  {
   "cell_type": "markdown",
   "metadata": {
    "id": "cBpj2SXeNJQ4"
   },
   "source": [
    "# Data Frame Sorting\n",
    "\n",
    "It's easy to sort data frames:"
   ]
  },
  {
   "cell_type": "code",
   "execution_count": null,
   "metadata": {
    "executionInfo": {
     "elapsed": 20184,
     "status": "aborted",
     "timestamp": 1608232725463,
     "user": {
      "displayName": "Benedict Paten",
      "photoUrl": "https://lh3.googleusercontent.com/a-/AOh14Gh2rYrrH6yoNnUp0Oj4p4ouybc6ZcWGyPmKFtIY=s64",
      "userId": "06399644931392855882"
     },
     "user_tz": 480
    },
    "id": "RH2UBwz1-gLd"
   },
   "outputs": [],
   "source": [
    "# Sort the column ordering\n",
    "\n",
    "df.sort_index(axis=1, ascending=False)"
   ]
  },
  {
   "cell_type": "code",
   "execution_count": null,
   "metadata": {
    "executionInfo": {
     "elapsed": 20159,
     "status": "aborted",
     "timestamp": 1608232725463,
     "user": {
      "displayName": "Benedict Paten",
      "photoUrl": "https://lh3.googleusercontent.com/a-/AOh14Gh2rYrrH6yoNnUp0Oj4p4ouybc6ZcWGyPmKFtIY=s64",
      "userId": "06399644931392855882"
     },
     "user_tz": 480
    },
    "id": "0GKdsijB-lYg"
   },
   "outputs": [],
   "source": [
    "# Sort the rows by value, keying on \"B\"\n",
    "\n",
    "df.sort_values(by='B')"
   ]
  },
  {
   "cell_type": "markdown",
   "metadata": {
    "id": "DLTEgteONYJv"
   },
   "source": [
    "\n",
    "\n",
    "# Data Frame Stats"
   ]
  },
  {
   "cell_type": "code",
   "execution_count": null,
   "metadata": {
    "executionInfo": {
     "elapsed": 20155,
     "status": "aborted",
     "timestamp": 1608232725464,
     "user": {
      "displayName": "Benedict Paten",
      "photoUrl": "https://lh3.googleusercontent.com/a-/AOh14Gh2rYrrH6yoNnUp0Oj4p4ouybc6ZcWGyPmKFtIY=s64",
      "userId": "06399644931392855882"
     },
     "user_tz": 480
    },
    "id": "pF59lIH0O3wQ"
   },
   "outputs": [],
   "source": [
    "df.mean() # get the median of each column"
   ]
  },
  {
   "cell_type": "code",
   "execution_count": null,
   "metadata": {
    "executionInfo": {
     "elapsed": 20151,
     "status": "aborted",
     "timestamp": 1608232725464,
     "user": {
      "displayName": "Benedict Paten",
      "photoUrl": "https://lh3.googleusercontent.com/a-/AOh14Gh2rYrrH6yoNnUp0Oj4p4ouybc6ZcWGyPmKFtIY=s64",
      "userId": "06399644931392855882"
     },
     "user_tz": 480
    },
    "id": "KTCM-KVsO9cM"
   },
   "outputs": [],
   "source": [
    "df.median() # get the median of each column"
   ]
  },
  {
   "cell_type": "code",
   "execution_count": null,
   "metadata": {
    "executionInfo": {
     "elapsed": 20147,
     "status": "aborted",
     "timestamp": 1608232725464,
     "user": {
      "displayName": "Benedict Paten",
      "photoUrl": "https://lh3.googleusercontent.com/a-/AOh14Gh2rYrrH6yoNnUp0Oj4p4ouybc6ZcWGyPmKFtIY=s64",
      "userId": "06399644931392855882"
     },
     "user_tz": 480
    },
    "id": "YJzZ32rS-HhB"
   },
   "outputs": [],
   "source": [
    "df.describe() # Calculate summary stats"
   ]
  },
  {
   "cell_type": "code",
   "execution_count": null,
   "metadata": {
    "executionInfo": {
     "elapsed": 20145,
     "status": "aborted",
     "timestamp": 1608232725465,
     "user": {
      "displayName": "Benedict Paten",
      "photoUrl": "https://lh3.googleusercontent.com/a-/AOh14Gh2rYrrH6yoNnUp0Oj4p4ouybc6ZcWGyPmKFtIY=s64",
      "userId": "06399644931392855882"
     },
     "user_tz": 480
    },
    "id": "Yh1-JyzgQD4L"
   },
   "outputs": [],
   "source": [
    "# You can even devise your own functions and apply them to each column\n",
    "\n",
    "def total_range(x):\n",
    "  return x.max() - x.min()\n",
    "\n",
    "df.apply(total_range) # This is an example of passing around functions as pointers"
   ]
  },
  {
   "cell_type": "markdown",
   "metadata": {
    "id": "30Ux_py4Qzxr"
   },
   "source": [
    "# Grouping\n",
    "\n",
    "If you have multiple rows with the same value, it's easy to group by them:"
   ]
  },
  {
   "cell_type": "code",
   "execution_count": null,
   "metadata": {
    "executionInfo": {
     "elapsed": 20140,
     "status": "aborted",
     "timestamp": 1608232725465,
     "user": {
      "displayName": "Benedict Paten",
      "photoUrl": "https://lh3.googleusercontent.com/a-/AOh14Gh2rYrrH6yoNnUp0Oj4p4ouybc6ZcWGyPmKFtIY=s64",
      "userId": "06399644931392855882"
     },
     "user_tz": 480
    },
    "id": "sWD-pfS7Q7xs"
   },
   "outputs": [],
   "source": [
    "df2 # df2 has a test/train split, described by column \"E\""
   ]
  },
  {
   "cell_type": "code",
   "execution_count": null,
   "metadata": {
    "executionInfo": {
     "elapsed": 20136,
     "status": "aborted",
     "timestamp": 1608232725465,
     "user": {
      "displayName": "Benedict Paten",
      "photoUrl": "https://lh3.googleusercontent.com/a-/AOh14Gh2rYrrH6yoNnUp0Oj4p4ouybc6ZcWGyPmKFtIY=s64",
      "userId": "06399644931392855882"
     },
     "user_tz": 480
    },
    "id": "LfjpuBDwQrRG"
   },
   "outputs": [],
   "source": [
    "df2.groupby(\"E\").sum() # This groups by the values of column E and then \n",
    "# adds up the values which can be summed (dates and strings can't be summed)"
   ]
  },
  {
   "cell_type": "markdown",
   "metadata": {
    "id": "k04ikSxHNUZC"
   },
   "source": [
    "# Data Frames and CSVs\n",
    "\n",
    "It is easy to convert comma separated files into a data frame, and to write to other popular formats (JSON, HDF5, etc.): (see https://pandas.pydata.org/pandas-docs/stable/user_guide/io.html#csv-text-files)"
   ]
  },
  {
   "cell_type": "code",
   "execution_count": null,
   "metadata": {
    "executionInfo": {
     "elapsed": 20133,
     "status": "aborted",
     "timestamp": 1608232725466,
     "user": {
      "displayName": "Benedict Paten",
      "photoUrl": "https://lh3.googleusercontent.com/a-/AOh14Gh2rYrrH6yoNnUp0Oj4p4ouybc6ZcWGyPmKFtIY=s64",
      "userId": "06399644931392855882"
     },
     "user_tz": 480
    },
    "id": "QRvfiUOxpkMz"
   },
   "outputs": [],
   "source": [
    "df2"
   ]
  },
  {
   "cell_type": "code",
   "execution_count": null,
   "metadata": {
    "executionInfo": {
     "elapsed": 20131,
     "status": "aborted",
     "timestamp": 1608232725466,
     "user": {
      "displayName": "Benedict Paten",
      "photoUrl": "https://lh3.googleusercontent.com/a-/AOh14Gh2rYrrH6yoNnUp0Oj4p4ouybc6ZcWGyPmKFtIY=s64",
      "userId": "06399644931392855882"
     },
     "user_tz": 480
    },
    "id": "X1_JJwOzA4vC"
   },
   "outputs": [],
   "source": [
    "df2.to_csv('out.csv') # Phew, that was easy - write the df to the file out.csv in CSV format"
   ]
  },
  {
   "cell_type": "code",
   "execution_count": null,
   "metadata": {
    "executionInfo": {
     "elapsed": 20127,
     "status": "aborted",
     "timestamp": 1608232725466,
     "user": {
      "displayName": "Benedict Paten",
      "photoUrl": "https://lh3.googleusercontent.com/a-/AOh14Gh2rYrrH6yoNnUp0Oj4p4ouybc6ZcWGyPmKFtIY=s64",
      "userId": "06399644931392855882"
     },
     "user_tz": 480
    },
    "id": "azvBOMwVD4e-"
   },
   "outputs": [],
   "source": [
    "# as a reminder, df2 looks like this:\n",
    "\n",
    "df2"
   ]
  },
  {
   "cell_type": "code",
   "execution_count": null,
   "metadata": {
    "executionInfo": {
     "elapsed": 20124,
     "status": "aborted",
     "timestamp": 1608232725466,
     "user": {
      "displayName": "Benedict Paten",
      "photoUrl": "https://lh3.googleusercontent.com/a-/AOh14Gh2rYrrH6yoNnUp0Oj4p4ouybc6ZcWGyPmKFtIY=s64",
      "userId": "06399644931392855882"
     },
     "user_tz": 480
    },
    "id": "LLPfkiuqceJ5"
   },
   "outputs": [],
   "source": [
    "# Let's just inspect the file real quick:\n",
    "\n",
    "with open(\"out.csv\") as f:\n",
    "   for i, l in enumerate(f):\n",
    "      print(\"Line:\", i, \"is: \", l, end=\"\")"
   ]
  },
  {
   "cell_type": "code",
   "execution_count": null,
   "metadata": {
    "executionInfo": {
     "elapsed": 20121,
     "status": "aborted",
     "timestamp": 1608232725467,
     "user": {
      "displayName": "Benedict Paten",
      "photoUrl": "https://lh3.googleusercontent.com/a-/AOh14Gh2rYrrH6yoNnUp0Oj4p4ouybc6ZcWGyPmKFtIY=s64",
      "userId": "06399644931392855882"
     },
     "user_tz": 480
    },
    "id": "ZrWhQ_k2nF14"
   },
   "outputs": [],
   "source": [
    "df3 = pd.read_csv('out.csv') # As simple as\n",
    "\n",
    "df3 # But note that the row index is all messed up.."
   ]
  },
  {
   "cell_type": "code",
   "execution_count": null,
   "metadata": {
    "executionInfo": {
     "elapsed": 20117,
     "status": "aborted",
     "timestamp": 1608232725467,
     "user": {
      "displayName": "Benedict Paten",
      "photoUrl": "https://lh3.googleusercontent.com/a-/AOh14Gh2rYrrH6yoNnUp0Oj4p4ouybc6ZcWGyPmKFtIY=s64",
      "userId": "06399644931392855882"
     },
     "user_tz": 480
    },
    "id": "O1U3wjeXB7ng"
   },
   "outputs": [],
   "source": [
    "# Fix the row index column by telling it to use column 0 as the row index:\n",
    "\n",
    "df3 = pd.read_csv('out.csv', index_col=0) # Read the csv, telling it that the first row is the\n",
    "# index of the column names, tell it to respect the dates\n",
    "\n",
    "df3 # Looks good"
   ]
  },
  {
   "cell_type": "code",
   "execution_count": null,
   "metadata": {
    "executionInfo": {
     "elapsed": 20115,
     "status": "aborted",
     "timestamp": 1608232725467,
     "user": {
      "displayName": "Benedict Paten",
      "photoUrl": "https://lh3.googleusercontent.com/a-/AOh14Gh2rYrrH6yoNnUp0Oj4p4ouybc6ZcWGyPmKFtIY=s64",
      "userId": "06399644931392855882"
     },
     "user_tz": 480
    },
    "id": "m_m_gcRoD3lw"
   },
   "outputs": [],
   "source": [
    "# The one thing to bear in mind, the types of the elements in the table are not necessarily\n",
    "# preserved:\n",
    "\n",
    "print(\"Before writing\\n\", df2.dtypes)\n",
    "\n",
    "print(\"After writing\\n\", df3.dtypes)"
   ]
  },
  {
   "cell_type": "markdown",
   "metadata": {
    "id": "otYXuncyRezl"
   },
   "source": [
    "# Data Frames Plotting\n",
    "\n"
   ]
  },
  {
   "cell_type": "code",
   "execution_count": null,
   "metadata": {
    "executionInfo": {
     "elapsed": 20113,
     "status": "aborted",
     "timestamp": 1608232725468,
     "user": {
      "displayName": "Benedict Paten",
      "photoUrl": "https://lh3.googleusercontent.com/a-/AOh14Gh2rYrrH6yoNnUp0Oj4p4ouybc6ZcWGyPmKFtIY=s64",
      "userId": "06399644931392855882"
     },
     "user_tz": 480
    },
    "id": "_hObfLypqRK8"
   },
   "outputs": [],
   "source": [
    "df"
   ]
  },
  {
   "cell_type": "code",
   "execution_count": null,
   "metadata": {
    "executionInfo": {
     "elapsed": 20107,
     "status": "aborted",
     "timestamp": 1608232725468,
     "user": {
      "displayName": "Benedict Paten",
      "photoUrl": "https://lh3.googleusercontent.com/a-/AOh14Gh2rYrrH6yoNnUp0Oj4p4ouybc6ZcWGyPmKFtIY=s64",
      "userId": "06399644931392855882"
     },
     "user_tz": 480
    },
    "id": "op3lQsISRoLh"
   },
   "outputs": [],
   "source": [
    "df.plot() # By default makes a line graph of each column"
   ]
  },
  {
   "cell_type": "code",
   "execution_count": null,
   "metadata": {
    "executionInfo": {
     "elapsed": 20102,
     "status": "aborted",
     "timestamp": 1608232725468,
     "user": {
      "displayName": "Benedict Paten",
      "photoUrl": "https://lh3.googleusercontent.com/a-/AOh14Gh2rYrrH6yoNnUp0Oj4p4ouybc6ZcWGyPmKFtIY=s64",
      "userId": "06399644931392855882"
     },
     "user_tz": 480
    },
    "id": "wqrGrq3Kn9-X"
   },
   "outputs": [],
   "source": [
    "\n",
    "df2.plot() # Doesn't work - too many different series types"
   ]
  },
  {
   "cell_type": "code",
   "execution_count": null,
   "metadata": {
    "executionInfo": {
     "elapsed": 20099,
     "status": "aborted",
     "timestamp": 1608232725469,
     "user": {
      "displayName": "Benedict Paten",
      "photoUrl": "https://lh3.googleusercontent.com/a-/AOh14Gh2rYrrH6yoNnUp0Oj4p4ouybc6ZcWGyPmKFtIY=s64",
      "userId": "06399644931392855882"
     },
     "user_tz": 480
    },
    "id": "3vVQhAvto6b7"
   },
   "outputs": [],
   "source": [
    "df2"
   ]
  },
  {
   "cell_type": "code",
   "execution_count": null,
   "metadata": {
    "executionInfo": {
     "elapsed": 20094,
     "status": "aborted",
     "timestamp": 1608232725469,
     "user": {
      "displayName": "Benedict Paten",
      "photoUrl": "https://lh3.googleusercontent.com/a-/AOh14Gh2rYrrH6yoNnUp0Oj4p4ouybc6ZcWGyPmKFtIY=s64",
      "userId": "06399644931392855882"
     },
     "user_tz": 480
    },
    "id": "JS7zWGSBo-27"
   },
   "outputs": [],
   "source": [
    "df2['A'].plot()"
   ]
  }
 ],
 "metadata": {
  "celltoolbar": "Slideshow",
  "colab": {
   "collapsed_sections": [
    "rCZOXyxJ4IrR",
    "Q7HzGcV_hZ03",
    "sVuWDTAVwjic",
    "jKeR0PfBjXXn",
    "Dj5MrBHnxXvR",
    "8W3ipE4yzeDv",
    "sEv428bW4vBa",
    "fsZRykhb4xap",
    "RP3G-SRIIXNt",
    "syY85SNWM76u",
    "J_udj6EPN575",
    "cBpj2SXeNJQ4",
    "DLTEgteONYJv",
    "30Ux_py4Qzxr",
    "k04ikSxHNUZC"
   ],
   "name": "L18 Data Science .ipynb",
   "provenance": []
  },
  "kernelspec": {
   "display_name": "Python 3",
   "language": "python",
   "name": "python3"
  },
  "language_info": {
   "codemirror_mode": {
    "name": "ipython",
    "version": 3
   },
   "file_extension": ".py",
   "mimetype": "text/x-python",
   "name": "python",
   "nbconvert_exporter": "python",
   "pygments_lexer": "ipython3",
   "version": "3.7.4"
  }
 },
 "nbformat": 4,
 "nbformat_minor": 1
}
